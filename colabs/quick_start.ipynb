{
  "cells": [
    {
      "cell_type": "markdown",
      "metadata": {
        "id": "_"
      },
      "source": [
        "# Quick start"
      ]
    },
    {
      "cell_type": "markdown",
      "metadata": {
        "id": "on5cvb0VoK_D"
      },
      "source": [
        "Welcome to the quick start guide for AlphaGenome! The goal of this tutorial notebook is to quickly get you started with using the model and making predictions."
      ]
    },
    {
      "cell_type": "markdown",
      "metadata": {
        "id": "XNBquB49Nk6W"
      },
      "source": [
        "```{tip}\n",
        "Open this tutorial in Google colab for interactive viewing.\n",
        "```"
      ]
    },
    {
      "cell_type": "code",
      "execution_count": 3,
      "metadata": {
        "cellView": "form",
        "id": "W28j15ApoK_D",
        "language": "python"
      },
      "outputs": [],
      "source": [
        "# @title Install AlphaGenome\n",
        "\n",
        "# @markdown Run this cell to install AlphaGenome.\n",
        "from IPython.display import clear_output\n",
        "! pip install alphagenome\n",
        "clear_output()"
      ]
    },
    {
      "cell_type": "markdown",
      "metadata": {
        "id": "-lcTVQLvqB6F"
      },
      "source": [
        "## Imports"
      ]
    },
    {
      "cell_type": "code",
      "execution_count": 4,
      "metadata": {
        "id": "KuLPy_awXaP_",
        "language": "python"
      },
      "outputs": [],
      "source": [
        "from alphagenome import colab_utils\n",
        "from alphagenome.data import gene_annotation\n",
        "from alphagenome.data import genome\n",
        "from alphagenome.data import transcript as transcript_utils\n",
        "from alphagenome.interpretation import ism\n",
        "from alphagenome.models import dna_client\n",
        "from alphagenome.models import variant_scorers\n",
        "from alphagenome.visualization import plot_components\n",
        "import matplotlib.pyplot as plt\n",
        "import pandas as pd"
      ]
    },
    {
      "cell_type": "markdown",
      "metadata": {
        "id": "jEGP__L4oK_E"
      },
      "source": [
        "## Predict outputs for a DNA sequence"
      ]
    },
    {
      "cell_type": "markdown",
      "metadata": {
        "id": "Bzov6O0goK_F"
      },
      "source": [
        "AlphaGenome is a model that makes predictions from DNA sequences. Let's load it up:\n",
        "\n"
      ]
    },
    {
      "cell_type": "markdown",
      "metadata": {
        "id": "ThpPPG1A8L-D"
      },
      "source": [
        "\n",
        "```{tip}\n",
        "If using Google Colab, store your key in \"Secrets\" for persistent access across sessions (see [installation](https://www.alphagenomedocs.com/installation.html#google-colab)). Otherwise, `dna_client.create` can take the API key directly.\n",
        "```"
      ]
    },
    {
      "cell_type": "code",
      "execution_count": 5,
      "metadata": {
        "id": "toBpbthy93gr",
        "language": "python"
      },
      "outputs": [],
      "source": [
        "dna_model = dna_client.create(colab_utils.get_api_key())"
      ]
    },
    {
      "cell_type": "markdown",
      "metadata": {
        "id": "H_358E_nkYVt"
      },
      "source": [
        "The model can make predictions for the following [output types](https://www.alphagenomedocs.com/exploring_model_metadata.html):"
      ]
    },
    {
      "cell_type": "code",
      "execution_count": 6,
      "metadata": {
        "id": "U2Q-amDjkYVt",
        "outputId": "f79342f8-dd5c-4c77-be54-691e9c51a929",
        "colab": {
          "base_uri": "https://localhost:8080/"
        }
      },
      "outputs": [
        {
          "output_type": "execute_result",
          "data": {
            "text/plain": [
              "['ATAC',\n",
              " 'CAGE',\n",
              " 'DNASE',\n",
              " 'RNA_SEQ',\n",
              " 'CHIP_HISTONE',\n",
              " 'CHIP_TF',\n",
              " 'SPLICE_SITES',\n",
              " 'SPLICE_SITE_USAGE',\n",
              " 'SPLICE_JUNCTIONS',\n",
              " 'CONTACT_MAPS',\n",
              " 'PROCAP']"
            ]
          },
          "metadata": {},
          "execution_count": 6
        }
      ],
      "source": [
        "[output.name for output in dna_client.OutputType]"
      ]
    },
    {
      "cell_type": "markdown",
      "metadata": {
        "id": "dpFi65J3kYVt"
      },
      "source": [
        "AlphaGenome predicts multiple 'tracks' per output type, covering a wide variety of tissues and cell-types.  However, predictions can be made efficiently for subsets of interest.\n",
        "\n",
        "Here is how to make DNase-seq predictions (as specified by `OutputType`) in a subset of tracks corresponding to lung tissue (as specified by `ontology_terms`) for a short DNA sequence of length 2048:\n",
        "\n",
        "*Note: We use ontology terms from standardized biological sources like UBERON (for anatomy) and the Cell Ontology (CL) to provide consistent and widely recognized classifications for tissue and cell types.*"
      ]
    },
    {
      "cell_type": "code",
      "execution_count": 12,
      "metadata": {
        "id": "pRv5MT9hkYVt"
      },
      "outputs": [],
      "source": [
        "output = dna_model.predict_sequence(\n",
        "    sequence='GATTACA'.center(2048, 'N'),  # Pad to valid sequence length.\n",
        "    requested_outputs=[dna_client.OutputType.DNASE],\n",
        "    ontology_terms=['UBERON:0002048'],  # Lung.\n",
        ")\n",
        "z"
      ]
    },
    {
      "cell_type": "markdown",
      "metadata": {
        "id": "bHz9nXh9kYVt"
      },
      "source": [
        "The `output` object contains predictions for all the different requested output types (in this case, only output type `DNASE`). Predictions for genomic tracks are stored inside a `TrackData` object:                                                                                                                            "
      ]
    },
    {
      "cell_type": "code",
      "source": [
        "output = dna_model.predict_sequence(\n",
        "    sequence='GATTACA'.center(2048, 'N'),  # Pad to valid sequence length.\n",
        "    requested_outputs=[dna_client.OutputType.DNASE],\n",
        "    ontology_terms=['UBERON:0000955'],  # Brain.\n",
        ")"
      ],
      "metadata": {
        "id": "ynSjP19cUbF8"
      },
      "execution_count": 30,
      "outputs": []
    },
    {
      "cell_type": "code",
      "execution_count": 31,
      "metadata": {
        "id": "KmQMwe1MkYVt",
        "outputId": "5c8730c1-f984-45c3-8ca8-6df0b85a5569",
        "colab": {
          "base_uri": "https://localhost:8080/"
        }
      },
      "outputs": [
        {
          "output_type": "execute_result",
          "data": {
            "text/plain": [
              "alphagenome.data.track_data.TrackData"
            ]
          },
          "metadata": {},
          "execution_count": 31
        }
      ],
      "source": [
        "dnase = output.dnase\n",
        "type(dnase)"
      ]
    },
    {
      "cell_type": "markdown",
      "metadata": {
        "id": "HflwfcSxkYVt"
      },
      "source": [
        "`TrackData` objects have the following components:"
      ]
    },
    {
      "cell_type": "markdown",
      "metadata": {
        "id": "pudb_vcWkYVt"
      },
      "source": [
        "<a href=\"https://services.google.com/fh/files/misc/trackdata.png\"><img src=\"https://services.google.com/fh/files/misc/trackdata.png\" alt=\"trackdata\" border=\"0\" height=500></a>"
      ]
    },
    {
      "cell_type": "markdown",
      "metadata": {
        "id": "0R24IDvokYVt"
      },
      "source": [
        "The predictions of shape `(sequence_length, num_tracks)` are stored in `.values`:"
      ]
    },
    {
      "cell_type": "code",
      "execution_count": 32,
      "metadata": {
        "id": "7OoINJM_kYVt",
        "outputId": "1ae827c3-07bb-455d-f4a7-702f5d90f9e7",
        "colab": {
          "base_uri": "https://localhost:8080/"
        }
      },
      "outputs": [
        {
          "output_type": "stream",
          "name": "stdout",
          "text": [
            "(2048, 1)\n"
          ]
        },
        {
          "output_type": "execute_result",
          "data": {
            "text/plain": [
              "array([[0.00141907],\n",
              "       [0.00141907],\n",
              "       [0.00141907],\n",
              "       ...,\n",
              "       [0.00154877],\n",
              "       [0.0022583 ],\n",
              "       [0.00309753]], dtype=float32)"
            ]
          },
          "metadata": {},
          "execution_count": 32
        }
      ],
      "source": [
        "print(dnase.values.shape)\n",
        "\n",
        "dnase.values"
      ]
    },
    {
      "cell_type": "markdown",
      "metadata": {
        "id": "6kAs7jA_kYVt"
      },
      "source": [
        "And the corresponding metadata describing each of the tracks is stored in `.metadata`:\n"
      ]
    },
    {
      "cell_type": "code",
      "execution_count": 33,
      "metadata": {
        "colab": {
          "height": 135,
          "base_uri": "https://localhost:8080/"
        },
        "id": "6SPQ6zhukYVt",
        "outputId": "86304553-aee7-4a82-d9e7-37e5ad3ec258"
      },
      "outputs": [
        {
          "output_type": "execute_result",
          "data": {
            "text/plain": [
              "                       name strand Assay title  ontology_curie biosample_name  \\\n",
              "0  UBERON:0000955 DNase-seq      .   DNase-seq  UBERON:0000955          brain   \n",
              "\n",
              "  biosample_type biosample_life_stage data_source endedness  \\\n",
              "0         tissue            embryonic      encode    paired   \n",
              "\n",
              "   genetically_modified  nonzero_mean  \n",
              "0                 False      0.328892  "
            ],
            "text/html": [
              "\n",
              "  <div id=\"df-ca5e3e41-328b-45f0-89c3-cf734a1d5cdc\" class=\"colab-df-container\">\n",
              "    <div>\n",
              "<style scoped>\n",
              "    .dataframe tbody tr th:only-of-type {\n",
              "        vertical-align: middle;\n",
              "    }\n",
              "\n",
              "    .dataframe tbody tr th {\n",
              "        vertical-align: top;\n",
              "    }\n",
              "\n",
              "    .dataframe thead th {\n",
              "        text-align: right;\n",
              "    }\n",
              "</style>\n",
              "<table border=\"1\" class=\"dataframe\">\n",
              "  <thead>\n",
              "    <tr style=\"text-align: right;\">\n",
              "      <th></th>\n",
              "      <th>name</th>\n",
              "      <th>strand</th>\n",
              "      <th>Assay title</th>\n",
              "      <th>ontology_curie</th>\n",
              "      <th>biosample_name</th>\n",
              "      <th>biosample_type</th>\n",
              "      <th>biosample_life_stage</th>\n",
              "      <th>data_source</th>\n",
              "      <th>endedness</th>\n",
              "      <th>genetically_modified</th>\n",
              "      <th>nonzero_mean</th>\n",
              "    </tr>\n",
              "  </thead>\n",
              "  <tbody>\n",
              "    <tr>\n",
              "      <th>0</th>\n",
              "      <td>UBERON:0000955 DNase-seq</td>\n",
              "      <td>.</td>\n",
              "      <td>DNase-seq</td>\n",
              "      <td>UBERON:0000955</td>\n",
              "      <td>brain</td>\n",
              "      <td>tissue</td>\n",
              "      <td>embryonic</td>\n",
              "      <td>encode</td>\n",
              "      <td>paired</td>\n",
              "      <td>False</td>\n",
              "      <td>0.328892</td>\n",
              "    </tr>\n",
              "  </tbody>\n",
              "</table>\n",
              "</div>\n",
              "    <div class=\"colab-df-buttons\">\n",
              "\n",
              "  <div class=\"colab-df-container\">\n",
              "    <button class=\"colab-df-convert\" onclick=\"convertToInteractive('df-ca5e3e41-328b-45f0-89c3-cf734a1d5cdc')\"\n",
              "            title=\"Convert this dataframe to an interactive table.\"\n",
              "            style=\"display:none;\">\n",
              "\n",
              "  <svg xmlns=\"http://www.w3.org/2000/svg\" height=\"24px\" viewBox=\"0 -960 960 960\">\n",
              "    <path d=\"M120-120v-720h720v720H120Zm60-500h600v-160H180v160Zm220 220h160v-160H400v160Zm0 220h160v-160H400v160ZM180-400h160v-160H180v160Zm440 0h160v-160H620v160ZM180-180h160v-160H180v160Zm440 0h160v-160H620v160Z\"/>\n",
              "  </svg>\n",
              "    </button>\n",
              "\n",
              "  <style>\n",
              "    .colab-df-container {\n",
              "      display:flex;\n",
              "      gap: 12px;\n",
              "    }\n",
              "\n",
              "    .colab-df-convert {\n",
              "      background-color: #E8F0FE;\n",
              "      border: none;\n",
              "      border-radius: 50%;\n",
              "      cursor: pointer;\n",
              "      display: none;\n",
              "      fill: #1967D2;\n",
              "      height: 32px;\n",
              "      padding: 0 0 0 0;\n",
              "      width: 32px;\n",
              "    }\n",
              "\n",
              "    .colab-df-convert:hover {\n",
              "      background-color: #E2EBFA;\n",
              "      box-shadow: 0px 1px 2px rgba(60, 64, 67, 0.3), 0px 1px 3px 1px rgba(60, 64, 67, 0.15);\n",
              "      fill: #174EA6;\n",
              "    }\n",
              "\n",
              "    .colab-df-buttons div {\n",
              "      margin-bottom: 4px;\n",
              "    }\n",
              "\n",
              "    [theme=dark] .colab-df-convert {\n",
              "      background-color: #3B4455;\n",
              "      fill: #D2E3FC;\n",
              "    }\n",
              "\n",
              "    [theme=dark] .colab-df-convert:hover {\n",
              "      background-color: #434B5C;\n",
              "      box-shadow: 0px 1px 3px 1px rgba(0, 0, 0, 0.15);\n",
              "      filter: drop-shadow(0px 1px 2px rgba(0, 0, 0, 0.3));\n",
              "      fill: #FFFFFF;\n",
              "    }\n",
              "  </style>\n",
              "\n",
              "    <script>\n",
              "      const buttonEl =\n",
              "        document.querySelector('#df-ca5e3e41-328b-45f0-89c3-cf734a1d5cdc button.colab-df-convert');\n",
              "      buttonEl.style.display =\n",
              "        google.colab.kernel.accessAllowed ? 'block' : 'none';\n",
              "\n",
              "      async function convertToInteractive(key) {\n",
              "        const element = document.querySelector('#df-ca5e3e41-328b-45f0-89c3-cf734a1d5cdc');\n",
              "        const dataTable =\n",
              "          await google.colab.kernel.invokeFunction('convertToInteractive',\n",
              "                                                    [key], {});\n",
              "        if (!dataTable) return;\n",
              "\n",
              "        const docLinkHtml = 'Like what you see? Visit the ' +\n",
              "          '<a target=\"_blank\" href=https://colab.research.google.com/notebooks/data_table.ipynb>data table notebook</a>'\n",
              "          + ' to learn more about interactive tables.';\n",
              "        element.innerHTML = '';\n",
              "        dataTable['output_type'] = 'display_data';\n",
              "        await google.colab.output.renderOutput(dataTable, element);\n",
              "        const docLink = document.createElement('div');\n",
              "        docLink.innerHTML = docLinkHtml;\n",
              "        element.appendChild(docLink);\n",
              "      }\n",
              "    </script>\n",
              "  </div>\n",
              "\n",
              "\n",
              "    </div>\n",
              "  </div>\n"
            ],
            "application/vnd.google.colaboratory.intrinsic+json": {
              "type": "dataframe",
              "summary": "{\n  \"name\": \"dnase\",\n  \"rows\": 1,\n  \"fields\": [\n    {\n      \"column\": \"name\",\n      \"properties\": {\n        \"dtype\": \"string\",\n        \"num_unique_values\": 1,\n        \"samples\": [\n          \"UBERON:0000955 DNase-seq\"\n        ],\n        \"semantic_type\": \"\",\n        \"description\": \"\"\n      }\n    },\n    {\n      \"column\": \"strand\",\n      \"properties\": {\n        \"dtype\": \"string\",\n        \"num_unique_values\": 1,\n        \"samples\": [\n          \".\"\n        ],\n        \"semantic_type\": \"\",\n        \"description\": \"\"\n      }\n    },\n    {\n      \"column\": \"Assay title\",\n      \"properties\": {\n        \"dtype\": \"string\",\n        \"num_unique_values\": 1,\n        \"samples\": [\n          \"DNase-seq\"\n        ],\n        \"semantic_type\": \"\",\n        \"description\": \"\"\n      }\n    },\n    {\n      \"column\": \"ontology_curie\",\n      \"properties\": {\n        \"dtype\": \"string\",\n        \"num_unique_values\": 1,\n        \"samples\": [\n          \"UBERON:0000955\"\n        ],\n        \"semantic_type\": \"\",\n        \"description\": \"\"\n      }\n    },\n    {\n      \"column\": \"biosample_name\",\n      \"properties\": {\n        \"dtype\": \"string\",\n        \"num_unique_values\": 1,\n        \"samples\": [\n          \"brain\"\n        ],\n        \"semantic_type\": \"\",\n        \"description\": \"\"\n      }\n    },\n    {\n      \"column\": \"biosample_type\",\n      \"properties\": {\n        \"dtype\": \"string\",\n        \"num_unique_values\": 1,\n        \"samples\": [\n          \"tissue\"\n        ],\n        \"semantic_type\": \"\",\n        \"description\": \"\"\n      }\n    },\n    {\n      \"column\": \"biosample_life_stage\",\n      \"properties\": {\n        \"dtype\": \"string\",\n        \"num_unique_values\": 1,\n        \"samples\": [\n          \"embryonic\"\n        ],\n        \"semantic_type\": \"\",\n        \"description\": \"\"\n      }\n    },\n    {\n      \"column\": \"data_source\",\n      \"properties\": {\n        \"dtype\": \"string\",\n        \"num_unique_values\": 1,\n        \"samples\": [\n          \"encode\"\n        ],\n        \"semantic_type\": \"\",\n        \"description\": \"\"\n      }\n    },\n    {\n      \"column\": \"endedness\",\n      \"properties\": {\n        \"dtype\": \"string\",\n        \"num_unique_values\": 1,\n        \"samples\": [\n          \"paired\"\n        ],\n        \"semantic_type\": \"\",\n        \"description\": \"\"\n      }\n    },\n    {\n      \"column\": \"genetically_modified\",\n      \"properties\": {\n        \"dtype\": \"boolean\",\n        \"num_unique_values\": 1,\n        \"samples\": [\n          false\n        ],\n        \"semantic_type\": \"\",\n        \"description\": \"\"\n      }\n    },\n    {\n      \"column\": \"nonzero_mean\",\n      \"properties\": {\n        \"dtype\": \"number\",\n        \"std\": null,\n        \"min\": 0.3288920521736145,\n        \"max\": 0.3288920521736145,\n        \"num_unique_values\": 1,\n        \"samples\": [\n          0.3288920521736145\n        ],\n        \"semantic_type\": \"\",\n        \"description\": \"\"\n      }\n    }\n  ]\n}"
            }
          },
          "metadata": {},
          "execution_count": 33
        }
      ],
      "source": [
        "dnase.metadata"
      ]
    },
    {
      "cell_type": "markdown",
      "metadata": {
        "id": "KLVSBMxVkYVt"
      },
      "source": [
        "In this case, there is only one output track, so the track metadata returns only 1 row.\n",
        "\n",
        "The track metadata is especially useful when requesting predictions for multiple tissues or cell-types, and when dealing with stranded assays (which are assays with separate readouts for the two DNA strands, such as CAGE and RNA-seq):\n"
      ]
    },
    {
      "cell_type": "code",
      "execution_count": 34,
      "metadata": {
        "id": "LGYCvBbmkYVt",
        "outputId": "d455b4e5-0937-4d2c-bc09-710b0cfaedd4",
        "colab": {
          "base_uri": "https://localhost:8080/"
        }
      },
      "outputs": [
        {
          "output_type": "stream",
          "name": "stdout",
          "text": [
            "DNASE predictions shape: (2048, 2)\n",
            "CAGE predictions shape: (2048, 4)\n"
          ]
        }
      ],
      "source": [
        "output = dna_model.predict_sequence(\n",
        "    sequence='GATTACA'.center(2048, 'N'),  # Pad to valid sequence length.\n",
        "    requested_outputs=[\n",
        "        dna_client.OutputType.CAGE,\n",
        "        dna_client.OutputType.DNASE,\n",
        "    ],\n",
        "    ontology_terms=[\n",
        "        'UBERON:0002048',  # Lung.\n",
        "        'UBERON:0000955',  # Brain.\n",
        "    ],\n",
        ")\n",
        "\n",
        "print(f'DNASE predictions shape: {output.dnase.values.shape}')\n",
        "print(f'CAGE predictions shape: {output.cage.values.shape}')"
      ]
    },
    {
      "cell_type": "markdown",
      "metadata": {
        "id": "sA4plQHMkYVt"
      },
      "source": [
        "Notice that in this example, we requested predictions for 2 assays and 2 ontology terms simultaneously.\n",
        "\n",
        "The CAGE track metadata describes the strand and tissue of each of the 4 predicted tracks (2 per DNA strand):"
      ]
    },
    {
      "cell_type": "code",
      "execution_count": 35,
      "metadata": {
        "colab": {
          "height": 175,
          "base_uri": "https://localhost:8080/"
        },
        "id": "89vnUT2KkYVt",
        "outputId": "7e35a0d4-dbb0-488e-df87-d67ac382f610"
      },
      "outputs": [
        {
          "output_type": "execute_result",
          "data": {
            "text/plain": [
              "                   name strand Assay title  ontology_curie biosample_name  \\\n",
              "0  hCAGE UBERON:0000955      +       hCAGE  UBERON:0000955          brain   \n",
              "1  hCAGE UBERON:0002048      +       hCAGE  UBERON:0002048           lung   \n",
              "2  hCAGE UBERON:0000955      -       hCAGE  UBERON:0000955          brain   \n",
              "3  hCAGE UBERON:0002048      -       hCAGE  UBERON:0002048           lung   \n",
              "\n",
              "  biosample_type data_source  nonzero_mean  \n",
              "0         tissue      fantom     28.432245  \n",
              "1         tissue      fantom     30.655853  \n",
              "2         tissue      fantom     28.432245  \n",
              "3         tissue      fantom     30.655853  "
            ],
            "text/html": [
              "\n",
              "  <div id=\"df-715e27ef-da56-415e-9df0-33d874e03f7d\" class=\"colab-df-container\">\n",
              "    <div>\n",
              "<style scoped>\n",
              "    .dataframe tbody tr th:only-of-type {\n",
              "        vertical-align: middle;\n",
              "    }\n",
              "\n",
              "    .dataframe tbody tr th {\n",
              "        vertical-align: top;\n",
              "    }\n",
              "\n",
              "    .dataframe thead th {\n",
              "        text-align: right;\n",
              "    }\n",
              "</style>\n",
              "<table border=\"1\" class=\"dataframe\">\n",
              "  <thead>\n",
              "    <tr style=\"text-align: right;\">\n",
              "      <th></th>\n",
              "      <th>name</th>\n",
              "      <th>strand</th>\n",
              "      <th>Assay title</th>\n",
              "      <th>ontology_curie</th>\n",
              "      <th>biosample_name</th>\n",
              "      <th>biosample_type</th>\n",
              "      <th>data_source</th>\n",
              "      <th>nonzero_mean</th>\n",
              "    </tr>\n",
              "  </thead>\n",
              "  <tbody>\n",
              "    <tr>\n",
              "      <th>0</th>\n",
              "      <td>hCAGE UBERON:0000955</td>\n",
              "      <td>+</td>\n",
              "      <td>hCAGE</td>\n",
              "      <td>UBERON:0000955</td>\n",
              "      <td>brain</td>\n",
              "      <td>tissue</td>\n",
              "      <td>fantom</td>\n",
              "      <td>28.432245</td>\n",
              "    </tr>\n",
              "    <tr>\n",
              "      <th>1</th>\n",
              "      <td>hCAGE UBERON:0002048</td>\n",
              "      <td>+</td>\n",
              "      <td>hCAGE</td>\n",
              "      <td>UBERON:0002048</td>\n",
              "      <td>lung</td>\n",
              "      <td>tissue</td>\n",
              "      <td>fantom</td>\n",
              "      <td>30.655853</td>\n",
              "    </tr>\n",
              "    <tr>\n",
              "      <th>2</th>\n",
              "      <td>hCAGE UBERON:0000955</td>\n",
              "      <td>-</td>\n",
              "      <td>hCAGE</td>\n",
              "      <td>UBERON:0000955</td>\n",
              "      <td>brain</td>\n",
              "      <td>tissue</td>\n",
              "      <td>fantom</td>\n",
              "      <td>28.432245</td>\n",
              "    </tr>\n",
              "    <tr>\n",
              "      <th>3</th>\n",
              "      <td>hCAGE UBERON:0002048</td>\n",
              "      <td>-</td>\n",
              "      <td>hCAGE</td>\n",
              "      <td>UBERON:0002048</td>\n",
              "      <td>lung</td>\n",
              "      <td>tissue</td>\n",
              "      <td>fantom</td>\n",
              "      <td>30.655853</td>\n",
              "    </tr>\n",
              "  </tbody>\n",
              "</table>\n",
              "</div>\n",
              "    <div class=\"colab-df-buttons\">\n",
              "\n",
              "  <div class=\"colab-df-container\">\n",
              "    <button class=\"colab-df-convert\" onclick=\"convertToInteractive('df-715e27ef-da56-415e-9df0-33d874e03f7d')\"\n",
              "            title=\"Convert this dataframe to an interactive table.\"\n",
              "            style=\"display:none;\">\n",
              "\n",
              "  <svg xmlns=\"http://www.w3.org/2000/svg\" height=\"24px\" viewBox=\"0 -960 960 960\">\n",
              "    <path d=\"M120-120v-720h720v720H120Zm60-500h600v-160H180v160Zm220 220h160v-160H400v160Zm0 220h160v-160H400v160ZM180-400h160v-160H180v160Zm440 0h160v-160H620v160ZM180-180h160v-160H180v160Zm440 0h160v-160H620v160Z\"/>\n",
              "  </svg>\n",
              "    </button>\n",
              "\n",
              "  <style>\n",
              "    .colab-df-container {\n",
              "      display:flex;\n",
              "      gap: 12px;\n",
              "    }\n",
              "\n",
              "    .colab-df-convert {\n",
              "      background-color: #E8F0FE;\n",
              "      border: none;\n",
              "      border-radius: 50%;\n",
              "      cursor: pointer;\n",
              "      display: none;\n",
              "      fill: #1967D2;\n",
              "      height: 32px;\n",
              "      padding: 0 0 0 0;\n",
              "      width: 32px;\n",
              "    }\n",
              "\n",
              "    .colab-df-convert:hover {\n",
              "      background-color: #E2EBFA;\n",
              "      box-shadow: 0px 1px 2px rgba(60, 64, 67, 0.3), 0px 1px 3px 1px rgba(60, 64, 67, 0.15);\n",
              "      fill: #174EA6;\n",
              "    }\n",
              "\n",
              "    .colab-df-buttons div {\n",
              "      margin-bottom: 4px;\n",
              "    }\n",
              "\n",
              "    [theme=dark] .colab-df-convert {\n",
              "      background-color: #3B4455;\n",
              "      fill: #D2E3FC;\n",
              "    }\n",
              "\n",
              "    [theme=dark] .colab-df-convert:hover {\n",
              "      background-color: #434B5C;\n",
              "      box-shadow: 0px 1px 3px 1px rgba(0, 0, 0, 0.15);\n",
              "      filter: drop-shadow(0px 1px 2px rgba(0, 0, 0, 0.3));\n",
              "      fill: #FFFFFF;\n",
              "    }\n",
              "  </style>\n",
              "\n",
              "    <script>\n",
              "      const buttonEl =\n",
              "        document.querySelector('#df-715e27ef-da56-415e-9df0-33d874e03f7d button.colab-df-convert');\n",
              "      buttonEl.style.display =\n",
              "        google.colab.kernel.accessAllowed ? 'block' : 'none';\n",
              "\n",
              "      async function convertToInteractive(key) {\n",
              "        const element = document.querySelector('#df-715e27ef-da56-415e-9df0-33d874e03f7d');\n",
              "        const dataTable =\n",
              "          await google.colab.kernel.invokeFunction('convertToInteractive',\n",
              "                                                    [key], {});\n",
              "        if (!dataTable) return;\n",
              "\n",
              "        const docLinkHtml = 'Like what you see? Visit the ' +\n",
              "          '<a target=\"_blank\" href=https://colab.research.google.com/notebooks/data_table.ipynb>data table notebook</a>'\n",
              "          + ' to learn more about interactive tables.';\n",
              "        element.innerHTML = '';\n",
              "        dataTable['output_type'] = 'display_data';\n",
              "        await google.colab.output.renderOutput(dataTable, element);\n",
              "        const docLink = document.createElement('div');\n",
              "        docLink.innerHTML = docLinkHtml;\n",
              "        element.appendChild(docLink);\n",
              "      }\n",
              "    </script>\n",
              "  </div>\n",
              "\n",
              "\n",
              "    <div id=\"df-61f40612-e3d5-4b87-ad5c-67f288868809\">\n",
              "      <button class=\"colab-df-quickchart\" onclick=\"quickchart('df-61f40612-e3d5-4b87-ad5c-67f288868809')\"\n",
              "                title=\"Suggest charts\"\n",
              "                style=\"display:none;\">\n",
              "\n",
              "<svg xmlns=\"http://www.w3.org/2000/svg\" height=\"24px\"viewBox=\"0 0 24 24\"\n",
              "     width=\"24px\">\n",
              "    <g>\n",
              "        <path d=\"M19 3H5c-1.1 0-2 .9-2 2v14c0 1.1.9 2 2 2h14c1.1 0 2-.9 2-2V5c0-1.1-.9-2-2-2zM9 17H7v-7h2v7zm4 0h-2V7h2v10zm4 0h-2v-4h2v4z\"/>\n",
              "    </g>\n",
              "</svg>\n",
              "      </button>\n",
              "\n",
              "<style>\n",
              "  .colab-df-quickchart {\n",
              "      --bg-color: #E8F0FE;\n",
              "      --fill-color: #1967D2;\n",
              "      --hover-bg-color: #E2EBFA;\n",
              "      --hover-fill-color: #174EA6;\n",
              "      --disabled-fill-color: #AAA;\n",
              "      --disabled-bg-color: #DDD;\n",
              "  }\n",
              "\n",
              "  [theme=dark] .colab-df-quickchart {\n",
              "      --bg-color: #3B4455;\n",
              "      --fill-color: #D2E3FC;\n",
              "      --hover-bg-color: #434B5C;\n",
              "      --hover-fill-color: #FFFFFF;\n",
              "      --disabled-bg-color: #3B4455;\n",
              "      --disabled-fill-color: #666;\n",
              "  }\n",
              "\n",
              "  .colab-df-quickchart {\n",
              "    background-color: var(--bg-color);\n",
              "    border: none;\n",
              "    border-radius: 50%;\n",
              "    cursor: pointer;\n",
              "    display: none;\n",
              "    fill: var(--fill-color);\n",
              "    height: 32px;\n",
              "    padding: 0;\n",
              "    width: 32px;\n",
              "  }\n",
              "\n",
              "  .colab-df-quickchart:hover {\n",
              "    background-color: var(--hover-bg-color);\n",
              "    box-shadow: 0 1px 2px rgba(60, 64, 67, 0.3), 0 1px 3px 1px rgba(60, 64, 67, 0.15);\n",
              "    fill: var(--button-hover-fill-color);\n",
              "  }\n",
              "\n",
              "  .colab-df-quickchart-complete:disabled,\n",
              "  .colab-df-quickchart-complete:disabled:hover {\n",
              "    background-color: var(--disabled-bg-color);\n",
              "    fill: var(--disabled-fill-color);\n",
              "    box-shadow: none;\n",
              "  }\n",
              "\n",
              "  .colab-df-spinner {\n",
              "    border: 2px solid var(--fill-color);\n",
              "    border-color: transparent;\n",
              "    border-bottom-color: var(--fill-color);\n",
              "    animation:\n",
              "      spin 1s steps(1) infinite;\n",
              "  }\n",
              "\n",
              "  @keyframes spin {\n",
              "    0% {\n",
              "      border-color: transparent;\n",
              "      border-bottom-color: var(--fill-color);\n",
              "      border-left-color: var(--fill-color);\n",
              "    }\n",
              "    20% {\n",
              "      border-color: transparent;\n",
              "      border-left-color: var(--fill-color);\n",
              "      border-top-color: var(--fill-color);\n",
              "    }\n",
              "    30% {\n",
              "      border-color: transparent;\n",
              "      border-left-color: var(--fill-color);\n",
              "      border-top-color: var(--fill-color);\n",
              "      border-right-color: var(--fill-color);\n",
              "    }\n",
              "    40% {\n",
              "      border-color: transparent;\n",
              "      border-right-color: var(--fill-color);\n",
              "      border-top-color: var(--fill-color);\n",
              "    }\n",
              "    60% {\n",
              "      border-color: transparent;\n",
              "      border-right-color: var(--fill-color);\n",
              "    }\n",
              "    80% {\n",
              "      border-color: transparent;\n",
              "      border-right-color: var(--fill-color);\n",
              "      border-bottom-color: var(--fill-color);\n",
              "    }\n",
              "    90% {\n",
              "      border-color: transparent;\n",
              "      border-bottom-color: var(--fill-color);\n",
              "    }\n",
              "  }\n",
              "</style>\n",
              "\n",
              "      <script>\n",
              "        async function quickchart(key) {\n",
              "          const quickchartButtonEl =\n",
              "            document.querySelector('#' + key + ' button');\n",
              "          quickchartButtonEl.disabled = true;  // To prevent multiple clicks.\n",
              "          quickchartButtonEl.classList.add('colab-df-spinner');\n",
              "          try {\n",
              "            const charts = await google.colab.kernel.invokeFunction(\n",
              "                'suggestCharts', [key], {});\n",
              "          } catch (error) {\n",
              "            console.error('Error during call to suggestCharts:', error);\n",
              "          }\n",
              "          quickchartButtonEl.classList.remove('colab-df-spinner');\n",
              "          quickchartButtonEl.classList.add('colab-df-quickchart-complete');\n",
              "        }\n",
              "        (() => {\n",
              "          let quickchartButtonEl =\n",
              "            document.querySelector('#df-61f40612-e3d5-4b87-ad5c-67f288868809 button');\n",
              "          quickchartButtonEl.style.display =\n",
              "            google.colab.kernel.accessAllowed ? 'block' : 'none';\n",
              "        })();\n",
              "      </script>\n",
              "    </div>\n",
              "\n",
              "    </div>\n",
              "  </div>\n"
            ],
            "application/vnd.google.colaboratory.intrinsic+json": {
              "type": "dataframe",
              "summary": "{\n  \"name\": \"output\",\n  \"rows\": 4,\n  \"fields\": [\n    {\n      \"column\": \"name\",\n      \"properties\": {\n        \"dtype\": \"string\",\n        \"num_unique_values\": 2,\n        \"samples\": [\n          \"hCAGE UBERON:0002048\",\n          \"hCAGE UBERON:0000955\"\n        ],\n        \"semantic_type\": \"\",\n        \"description\": \"\"\n      }\n    },\n    {\n      \"column\": \"strand\",\n      \"properties\": {\n        \"dtype\": \"string\",\n        \"num_unique_values\": 2,\n        \"samples\": [\n          \"-\",\n          \"+\"\n        ],\n        \"semantic_type\": \"\",\n        \"description\": \"\"\n      }\n    },\n    {\n      \"column\": \"Assay title\",\n      \"properties\": {\n        \"dtype\": \"category\",\n        \"num_unique_values\": 1,\n        \"samples\": [\n          \"hCAGE\"\n        ],\n        \"semantic_type\": \"\",\n        \"description\": \"\"\n      }\n    },\n    {\n      \"column\": \"ontology_curie\",\n      \"properties\": {\n        \"dtype\": \"string\",\n        \"num_unique_values\": 2,\n        \"samples\": [\n          \"UBERON:0002048\"\n        ],\n        \"semantic_type\": \"\",\n        \"description\": \"\"\n      }\n    },\n    {\n      \"column\": \"biosample_name\",\n      \"properties\": {\n        \"dtype\": \"string\",\n        \"num_unique_values\": 2,\n        \"samples\": [\n          \"lung\"\n        ],\n        \"semantic_type\": \"\",\n        \"description\": \"\"\n      }\n    },\n    {\n      \"column\": \"biosample_type\",\n      \"properties\": {\n        \"dtype\": \"category\",\n        \"num_unique_values\": 1,\n        \"samples\": [\n          \"tissue\"\n        ],\n        \"semantic_type\": \"\",\n        \"description\": \"\"\n      }\n    },\n    {\n      \"column\": \"data_source\",\n      \"properties\": {\n        \"dtype\": \"category\",\n        \"num_unique_values\": 1,\n        \"samples\": [\n          \"fantom\"\n        ],\n        \"semantic_type\": \"\",\n        \"description\": \"\"\n      }\n    },\n    {\n      \"column\": \"nonzero_mean\",\n      \"properties\": {\n        \"dtype\": \"number\",\n        \"std\": 1.283800687168554,\n        \"min\": 28.4322452545166,\n        \"max\": 30.655853271484375,\n        \"num_unique_values\": 2,\n        \"samples\": [\n          30.655853271484375\n        ],\n        \"semantic_type\": \"\",\n        \"description\": \"\"\n      }\n    }\n  ]\n}"
            }
          },
          "metadata": {},
          "execution_count": 35
        }
      ],
      "source": [
        "output.cage.metadata"
      ]
    },
    {
      "cell_type": "markdown",
      "metadata": {
        "id": "HemMKknzkYVt"
      },
      "source": [
        "See the [output metadata documentation](https://www.alphagenomedocs.com/exploring_model_metadata.html) for more information on the output types and output shapes. For the mapping between tissue names (e.g. 'brain' -> 'UBERON:0000955') and ontology terms, see this [tutorial](tissue_ontology_mapping.ipynb).\n"
      ]
    },
    {
      "cell_type": "markdown",
      "metadata": {
        "id": "rL6BQQfqkYVt"
      },
      "source": [
        "## Predict outputs for a genome interval (reference genome)"
      ]
    },
    {
      "cell_type": "markdown",
      "metadata": {
        "id": "cZuGzeStkYVt"
      },
      "source": [
        "For convenience, you can also directly make predictions for a human reference genome sequence specified by a **genomic interval**. For example, let's predict RNA-seq for tissue 'Right liver lobe' in a 1MB region of Chromosome 19 around the gene *CYP2B6*, which encodes an enzyme involved in drug metabolism, and is primarily expressed in the liver.\n",
        "\n",
        "We first load up a GTF file containing gene and transcript locations as annotated by GENCODE (more information on GTF format [here](https://www.gencodegenes.org/pages/data_format.html)):"
      ]
    },
    {
      "cell_type": "code",
      "execution_count": 19,
      "metadata": {
        "id": "1WE7BBh6klIA"
      },
      "outputs": [],
      "source": [
        "# The GTF file contains information on the location of all trancripts.\n",
        "# Note that we use genome assembly hg38 for human.\n",
        "gtf = pd.read_feather(\n",
        "    'https://storage.googleapis.com/alphagenome/reference/gencode/'\n",
        "    'hg38/gencode.v46.annotation.gtf.gz.feather'\n",
        ")\n",
        "\n",
        "# Set up transcript extractors using the information in the GTF file.\n",
        "gtf_transcripts = gene_annotation.filter_protein_coding(gtf)\n",
        "gtf_transcripts = gene_annotation.filter_to_longest_transcript(gtf_transcripts)\n",
        "transcript_extractor = transcript_utils.TranscriptExtractor(gtf_transcripts)"
      ]
    },
    {
      "cell_type": "markdown",
      "metadata": {
        "id": "Q5PjqsMCkYVt"
      },
      "source": [
        "And then fetch the gene's location as a `genome.Interval` object by passing either its `gene_symbol` (HGNC naming convention) or ENSEMBL `gene_id`:"
      ]
    },
    {
      "cell_type": "code",
      "execution_count": 13,
      "metadata": {
        "id": "pngLCscokYVt",
        "outputId": "504e336f-a14e-4c51-9df4-b89b048059b2",
        "colab": {
          "base_uri": "https://localhost:8080/"
        }
      },
      "outputs": [
        {
          "output_type": "execute_result",
          "data": {
            "text/plain": [
              "Interval(chromosome='chr19', start=40991281, end=41018398, strand='+', name='CYP2B6')"
            ]
          },
          "metadata": {},
          "execution_count": 13
        }
      ],
      "source": [
        "interval = gene_annotation.get_gene_interval(gtf, gene_symbol='CYP2B6')\n",
        "interval"
      ]
    },
    {
      "cell_type": "code",
      "source": [
        "interval = gene_annotation.get_gene_interval(gtf, gene_symbol='FCER1G')\n",
        "interval"
      ],
      "metadata": {
        "id": "rSmwtaEdoYqj",
        "outputId": "7a09af11-cbcf-49f8-d26a-f88522ca6131",
        "colab": {
          "base_uri": "https://localhost:8080/"
        }
      },
      "execution_count": 36,
      "outputs": [
        {
          "output_type": "execute_result",
          "data": {
            "text/plain": [
              "Interval(chromosome='chr1', start=161215233, end=161220699, strand='+', name='FCER1G')"
            ]
          },
          "metadata": {},
          "execution_count": 36
        }
      ]
    },
    {
      "cell_type": "markdown",
      "metadata": {
        "id": "6fLrfgyvkYVt"
      },
      "source": [
        "We can resize it to a length compatible with the model:"
      ]
    },
    {
      "cell_type": "code",
      "execution_count": 21,
      "metadata": {
        "id": "VV5k05MykYVt"
      },
      "outputs": [],
      "source": [
        "interval = interval.resize(dna_client.SEQUENCE_LENGTH_1MB)"
      ]
    },
    {
      "cell_type": "markdown",
      "metadata": {
        "id": "pu1A32KJkYVt"
      },
      "source": [
        "The `.resize()` method adjusts the interval to the specified width by expanding (or contracting) around its original center. Note that `dna_model.predict_interval()` interprets this resizing as an expansion of the actual genomic sequence rather than padding tokens.\n"
      ]
    },
    {
      "cell_type": "code",
      "source": [
        "interval = interval.resize(dna_client.SEQUENCE_LENGTH_100KB)"
      ],
      "metadata": {
        "id": "FJCISlz5V4YJ"
      },
      "execution_count": 38,
      "outputs": []
    },
    {
      "cell_type": "code",
      "source": [],
      "metadata": {
        "id": "XMC0nqfxV7bN"
      },
      "execution_count": null,
      "outputs": []
    },
    {
      "cell_type": "code",
      "execution_count": 39,
      "metadata": {
        "id": "3TdgcNRskYVt",
        "outputId": "f9c46546-0f2f-4036-988e-d6fbf9c1b652",
        "colab": {
          "base_uri": "https://localhost:8080/"
        }
      },
      "outputs": [
        {
          "output_type": "execute_result",
          "data": {
            "text/plain": [
              "131072"
            ]
          },
          "metadata": {},
          "execution_count": 39
        }
      ],
      "source": [
        "interval.width"
      ]
    },
    {
      "cell_type": "markdown",
      "metadata": {
        "id": "hI5hi6DckYVu"
      },
      "source": [
        " See the [essential commands documentation](https://www.alphagenomedocs.com/colabs/essential_commands.html) for more handy commands like `resize`.\n",
        "\n",
        "Note that AlphaGenome supports the following input sequence lengths:"
      ]
    },
    {
      "cell_type": "code",
      "execution_count": 40,
      "metadata": {
        "id": "22gZecZTkYVu",
        "outputId": "bdb82a53-fbe8-4010-f724-9b1166326f4d",
        "colab": {
          "base_uri": "https://localhost:8080/"
        }
      },
      "outputs": [
        {
          "output_type": "execute_result",
          "data": {
            "text/plain": [
              "dict_keys(['SEQUENCE_LENGTH_2KB', 'SEQUENCE_LENGTH_16KB', 'SEQUENCE_LENGTH_100KB', 'SEQUENCE_LENGTH_500KB', 'SEQUENCE_LENGTH_1MB'])"
            ]
          },
          "metadata": {},
          "execution_count": 40
        }
      ],
      "source": [
        "dna_client.SUPPORTED_SEQUENCE_LENGTHS.keys()"
      ]
    },
    {
      "cell_type": "markdown",
      "metadata": {
        "id": "oRk3W7yjkYVu"
      },
      "source": [
        "\n",
        " We can now make predictions using our interval:"
      ]
    },
    {
      "cell_type": "code",
      "execution_count": 41,
      "metadata": {
        "id": "ME7NH0B-kYVu",
        "outputId": "bd4f967d-3d46-4b2e-9396-8cbe131b40b9",
        "colab": {
          "base_uri": "https://localhost:8080/"
        }
      },
      "outputs": [
        {
          "output_type": "execute_result",
          "data": {
            "text/plain": [
              "(131072, 2)"
            ]
          },
          "metadata": {},
          "execution_count": 41
        }
      ],
      "source": [
        "output = dna_model.predict_interval(\n",
        "    interval=interval,\n",
        "    requested_outputs=[dna_client.OutputType.RNA_SEQ],\n",
        "    ontology_terms=['CL:0000127'],\n",
        ")  # Right liver lobe.\n",
        "#HP:0002511\n",
        "output.rna_seq.values.shape"
      ]
    },
    {
      "cell_type": "markdown",
      "metadata": {
        "id": "HZD6iGfrkYVu"
      },
      "source": [
        "In general, you can have multiple tracks for a given ontology term. In this case, we have 3 RNA-seq tracks for the tissue \"Right liver lobe\".\n",
        "\n",
        "Let's visualise these predictions. It's helpful visualise gene transcripts alongside the predicted tracks, so we extract them here:"
      ]
    },
    {
      "cell_type": "code",
      "execution_count": 42,
      "metadata": {
        "id": "zU61GXrekYVu",
        "outputId": "389da4eb-e4e8-4f12-bc93-244d2dc72fd3",
        "colab": {
          "base_uri": "https://localhost:8080/"
        }
      },
      "outputs": [
        {
          "output_type": "stream",
          "name": "stdout",
          "text": [
            "Extracted 11 transcripts in this interval.\n"
          ]
        }
      ],
      "source": [
        "longest_transcripts = transcript_extractor.extract(interval)\n",
        "print(f'Extracted {len(longest_transcripts)} transcripts in this interval.')"
      ]
    },
    {
      "cell_type": "markdown",
      "metadata": {
        "id": "9hUwvkl_kYVu"
      },
      "source": [
        "We also provide a [visualization basics guide](https://www.alphagenomedocs.com/visualization_library_basics.html) that integrates nicely with `TrackData` and other objects returned by the model API."
      ]
    },
    {
      "cell_type": "code",
      "execution_count": 43,
      "metadata": {
        "colab": {
          "height": 229,
          "base_uri": "https://localhost:8080/"
        },
        "id": "MjJsLGnGkYVu",
        "outputId": "4302aced-c458-4106-d402-270b9bda5327"
      },
      "outputs": [
        {
          "output_type": "display_data",
          "data": {
            "text/plain": [
              "<Figure size 2000x300 with 3 Axes>"
            ],
            "image/png": "[encoded data removed]"
          },
          "metadata": {}
        }
      ],
      "source": [
        "plot_components.plot(\n",
        "    components=[\n",
        "        plot_components.TranscriptAnnotation(longest_transcripts),\n",
        "        plot_components.Tracks(output.rna_seq),\n",
        "    ],\n",
        "    interval=output.rna_seq.interval,\n",
        ")\n",
        "\n",
        "plt.show()"
      ]
    },
    {
      "cell_type": "markdown",
      "metadata": {
        "id": "uBtGbT0skYVu"
      },
      "source": [
        "This plot visualises the 3 predicted RNA-seq tracks and also marks the location of the longest transcript per gene in the 1MB region.\n",
        "\n",
        "We can zoom in to the middle of the plot by resizing the interval:\n"
      ]
    },
    {
      "cell_type": "code",
      "execution_count": 44,
      "metadata": {
        "colab": {
          "height": 228,
          "base_uri": "https://localhost:8080/"
        },
        "id": "J8_0AvHbkYVu",
        "outputId": "3fd063b8-3950-41df-a5a8-cbbff41c3042"
      },
      "outputs": [
        {
          "output_type": "display_data",
          "data": {
            "text/plain": [
              "<Figure size 2000x300 with 3 Axes>"
            ],
            "image/png": "[encoded data removed]"
          },
          "metadata": {}
        }
      ],
      "source": [
        "plot_components.plot(\n",
        "    components=[\n",
        "        plot_components.TranscriptAnnotation(\n",
        "            longest_transcripts, fig_height=0.1\n",
        "        ),\n",
        "        plot_components.Tracks(output.rna_seq),\n",
        "    ],\n",
        "    interval=output.rna_seq.interval.resize(2**15),\n",
        ")\n",
        "\n",
        "plt.show()"
      ]
    },
    {
      "cell_type": "markdown",
      "metadata": {
        "id": "1o5l2yUGkYVu"
      },
      "source": [
        "You can see here that predicted RNA-seq values are nicely aligned with the location of exons, and that the predictions are stranded – the predicted values are much higher for the positive strand, where the gene is located. We see that the *CYP2B6* gene is on the positive strand since the arrows in the transcript go from left to right.\n",
        "\n",
        "For more detail on the visualization library, please refer to the [visualization basics guide](https://www.alphagenomedocs.com/visualization_library_basics.html) and [library documentation](https://www.alphagenomedocs.com/api/visualization.html)."
      ]
    },
    {
      "cell_type": "markdown",
      "metadata": {
        "id": "rPQJQirLkYVu"
      },
      "source": [
        "## Predict variant effects\n",
        "\n"
      ]
    },
    {
      "cell_type": "markdown",
      "metadata": {
        "id": "ktZ0PqhQkYVu"
      },
      "source": [
        "We can predict the effect of a variant on a specific output type and tissue by making predictions for the reference (REF) and alternative (ALT) allele sequences.\n",
        "\n",
        "We specify the variant by defining a `genome.Variant` object. The specific variant below is a known variant affecting gene expression in colon tissue:"
      ]
    },
    {
      "cell_type": "code",
      "execution_count": null,
      "metadata": {
        "id": "YaxavVV_kYVu"
      },
      "outputs": [],
      "source": [
        "variant = genome.Variant(\n",
        "    chromosome='chr22',\n",
        "    position=36201698,\n",
        "    reference_bases='A',  # Can differ from the true reference genome base.\n",
        "    alternate_bases='C',\n",
        ")"
      ]
    },
    {
      "cell_type": "code",
      "source": [
        "variant = genome.Variant(\n",
        "    chromosome='chr1',\n",
        "    position=161189357,\n",
        "    reference_bases='C',  # Can differ from the true reference genome base.\n",
        "    alternate_bases='T',\n",
        ")"
      ],
      "metadata": {
        "id": "wKnKySHwrogw"
      },
      "execution_count": 45,
      "outputs": []
    },
    {
      "cell_type": "markdown",
      "metadata": {
        "id": "HE2_iU6akYVu"
      },
      "source": [
        "Next, we define the interval over which to make the REF and ALT predictions. A quick way to get a `genome.Interval` from a `genome.Variant` is by calling `.reference_interval`, which we can resize to a model-compatible sequence length:"
      ]
    },
    {
      "cell_type": "code",
      "execution_count": 46,
      "metadata": {
        "id": "0jxThai2kYVu"
      },
      "outputs": [],
      "source": [
        "interval = variant.reference_interval.resize(dna_client.SEQUENCE_LENGTH_1MB)"
      ]
    },
    {
      "cell_type": "code",
      "source": [
        "interval = variant.reference_interval.resize(dna_client.SEQUENCE_LENGTH_100KB)"
      ],
      "metadata": {
        "id": "q66I2TLZWTfn"
      },
      "execution_count": 47,
      "outputs": []
    },
    {
      "cell_type": "code",
      "source": [],
      "metadata": {
        "id": "lonLSQv-WXTw"
      },
      "execution_count": null,
      "outputs": []
    },
    {
      "cell_type": "markdown",
      "metadata": {
        "id": "Oupoz0bGkYVu"
      },
      "source": [
        "We then use `predict_variant` to get the REF and ALT RNA-seq predictions in the interval for \"Colon - Transverse\" tissue (`UBERON:0001157`):"
      ]
    },
    {
      "cell_type": "code",
      "execution_count": 48,
      "metadata": {
        "id": "TZbfcADGkYVu"
      },
      "outputs": [],
      "source": [
        "variant_output = dna_model.predict_variant(\n",
        "    interval=interval,\n",
        "    variant=variant,\n",
        "    requested_outputs=[dna_client.OutputType.RNA_SEQ],\n",
        "    ontology_terms=['UBERON:0001157'],\n",
        ")  # Colon - Transverse."
      ]
    },
    {
      "cell_type": "markdown",
      "metadata": {
        "id": "YzYgHwSAkYVu"
      },
      "source": [
        "We can plot the predicted REF and ALT values as a single plot and zoom in on the affected gene to better visualise the variant's effect on gene expression:"
      ]
    },
    {
      "cell_type": "code",
      "source": [
        "variant_output = dna_model.predict_variant(\n",
        "    interval=interval,\n",
        "    variant=variant,\n",
        "    requested_outputs=[dna_client.OutputType.RNA_SEQ],\n",
        "    ontology_terms=['MONDO:0004975'],\n",
        ")"
      ],
      "metadata": {
        "id": "yqB3hmD0Treq",
        "outputId": "191cac0b-c38b-44b7-d92a-359421b277e5",
        "colab": {
          "base_uri": "https://localhost:8080/",
          "height": 418
        }
      },
      "execution_count": 49,
      "outputs": [
        {
          "output_type": "error",
          "ename": "ValueError",
          "evalue": "Cannot parse ontology_type='MONDO'",
          "traceback": [
            "\u001b[0;31m---------------------------------------------------------------------------\u001b[0m",
            "\u001b[0;31mKeyError\u001b[0m                                  Traceback (most recent call last)",
            "\u001b[0;32m/usr/local/lib/python3.11/dist-packages/alphagenome/data/ontology.py\u001b[0m in \u001b[0;36mfrom_curie\u001b[0;34m(ontology_curie)\u001b[0m\n\u001b[1;32m     91\u001b[0m   \u001b[0;32mtry\u001b[0m\u001b[0;34m:\u001b[0m\u001b[0;34m\u001b[0m\u001b[0;34m\u001b[0m\u001b[0m\n\u001b[0;32m---> 92\u001b[0;31m     \u001b[0montology_type\u001b[0m \u001b[0;34m=\u001b[0m \u001b[0mOntologyType\u001b[0m\u001b[0;34m[\u001b[0m\u001b[0montology_type\u001b[0m\u001b[0;34m]\u001b[0m\u001b[0;34m\u001b[0m\u001b[0;34m\u001b[0m\u001b[0m\n\u001b[0m\u001b[1;32m     93\u001b[0m   \u001b[0;32mexcept\u001b[0m \u001b[0mKeyError\u001b[0m \u001b[0;32mas\u001b[0m \u001b[0me\u001b[0m\u001b[0;34m:\u001b[0m\u001b[0;34m\u001b[0m\u001b[0;34m\u001b[0m\u001b[0m\n",
            "\u001b[0;32m/usr/lib/python3.11/enum.py\u001b[0m in \u001b[0;36m__getitem__\u001b[0;34m(cls, name)\u001b[0m\n\u001b[1;32m    791\u001b[0m         \"\"\"\n\u001b[0;32m--> 792\u001b[0;31m         \u001b[0;32mreturn\u001b[0m \u001b[0mcls\u001b[0m\u001b[0;34m.\u001b[0m\u001b[0m_member_map_\u001b[0m\u001b[0;34m[\u001b[0m\u001b[0mname\u001b[0m\u001b[0;34m]\u001b[0m\u001b[0;34m\u001b[0m\u001b[0;34m\u001b[0m\u001b[0m\n\u001b[0m\u001b[1;32m    793\u001b[0m \u001b[0;34m\u001b[0m\u001b[0m\n",
            "\u001b[0;31mKeyError\u001b[0m: 'MONDO'",
            "\nThe above exception was the direct cause of the following exception:\n",
            "\u001b[0;31mValueError\u001b[0m                                Traceback (most recent call last)",
            "\u001b[0;32m/tmp/ipython-input-49-1014539438.py\u001b[0m in \u001b[0;36m<cell line: 0>\u001b[0;34m()\u001b[0m\n\u001b[0;32m----> 1\u001b[0;31m variant_output = dna_model.predict_variant(\n\u001b[0m\u001b[1;32m      2\u001b[0m     \u001b[0minterval\u001b[0m\u001b[0;34m=\u001b[0m\u001b[0minterval\u001b[0m\u001b[0;34m,\u001b[0m\u001b[0;34m\u001b[0m\u001b[0;34m\u001b[0m\u001b[0m\n\u001b[1;32m      3\u001b[0m     \u001b[0mvariant\u001b[0m\u001b[0;34m=\u001b[0m\u001b[0mvariant\u001b[0m\u001b[0;34m,\u001b[0m\u001b[0;34m\u001b[0m\u001b[0;34m\u001b[0m\u001b[0m\n\u001b[1;32m      4\u001b[0m     \u001b[0mrequested_outputs\u001b[0m\u001b[0;34m=\u001b[0m\u001b[0;34m[\u001b[0m\u001b[0mdna_client\u001b[0m\u001b[0;34m.\u001b[0m\u001b[0mOutputType\u001b[0m\u001b[0;34m.\u001b[0m\u001b[0mRNA_SEQ\u001b[0m\u001b[0;34m]\u001b[0m\u001b[0;34m,\u001b[0m\u001b[0;34m\u001b[0m\u001b[0;34m\u001b[0m\u001b[0m\n\u001b[1;32m      5\u001b[0m     \u001b[0montology_terms\u001b[0m\u001b[0;34m=\u001b[0m\u001b[0;34m[\u001b[0m\u001b[0;34m'MONDO:0004975'\u001b[0m\u001b[0;34m]\u001b[0m\u001b[0;34m,\u001b[0m\u001b[0;34m\u001b[0m\u001b[0;34m\u001b[0m\u001b[0m\n",
            "\u001b[0;32m/usr/local/lib/python3.11/dist-packages/alphagenome/models/dna_client.py\u001b[0m in \u001b[0;36mwrapper\u001b[0;34m(*args, **kwargs)\u001b[0m\n\u001b[1;32m    114\u001b[0m       \u001b[0;32mtry\u001b[0m\u001b[0;34m:\u001b[0m\u001b[0;34m\u001b[0m\u001b[0;34m\u001b[0m\u001b[0m\n\u001b[1;32m    115\u001b[0m         \u001b[0mattempt\u001b[0m \u001b[0;34m+=\u001b[0m \u001b[0;36m1\u001b[0m\u001b[0;34m\u001b[0m\u001b[0;34m\u001b[0m\u001b[0m\n\u001b[0;32m--> 116\u001b[0;31m         \u001b[0;32mreturn\u001b[0m \u001b[0mfunction\u001b[0m\u001b[0;34m(\u001b[0m\u001b[0;34m*\u001b[0m\u001b[0margs\u001b[0m\u001b[0;34m,\u001b[0m \u001b[0;34m**\u001b[0m\u001b[0mkwargs\u001b[0m\u001b[0;34m)\u001b[0m\u001b[0;34m\u001b[0m\u001b[0;34m\u001b[0m\u001b[0m\n\u001b[0m\u001b[1;32m    117\u001b[0m       \u001b[0;32mexcept\u001b[0m \u001b[0mgrpc\u001b[0m\u001b[0;34m.\u001b[0m\u001b[0mRpcError\u001b[0m \u001b[0;32mas\u001b[0m \u001b[0me\u001b[0m\u001b[0;34m:\u001b[0m\u001b[0;34m\u001b[0m\u001b[0;34m\u001b[0m\u001b[0m\n\u001b[1;32m    118\u001b[0m         \u001b[0merror_code\u001b[0m \u001b[0;34m=\u001b[0m \u001b[0me\u001b[0m\u001b[0;34m.\u001b[0m\u001b[0mcode\u001b[0m\u001b[0;34m(\u001b[0m\u001b[0;34m)\u001b[0m  \u001b[0;31m# pytype: disable=attribute-error\u001b[0m\u001b[0;34m\u001b[0m\u001b[0;34m\u001b[0m\u001b[0m\n",
            "\u001b[0;32m/usr/local/lib/python3.11/dist-packages/alphagenome/models/dna_client.py\u001b[0m in \u001b[0;36mpredict_variant\u001b[0;34m(self, interval, variant, organism, requested_outputs, ontology_terms)\u001b[0m\n\u001b[1;32m    767\u001b[0m         \u001b[0mvariant\u001b[0m\u001b[0;34m=\u001b[0m\u001b[0mvariant\u001b[0m\u001b[0;34m.\u001b[0m\u001b[0mto_proto\u001b[0m\u001b[0;34m(\u001b[0m\u001b[0;34m)\u001b[0m\u001b[0;34m,\u001b[0m\u001b[0;34m\u001b[0m\u001b[0;34m\u001b[0m\u001b[0m\n\u001b[1;32m    768\u001b[0m         \u001b[0morganism\u001b[0m\u001b[0;34m=\u001b[0m\u001b[0morganism\u001b[0m\u001b[0;34m.\u001b[0m\u001b[0mto_proto\u001b[0m\u001b[0;34m(\u001b[0m\u001b[0;34m)\u001b[0m\u001b[0;34m,\u001b[0m\u001b[0;34m\u001b[0m\u001b[0;34m\u001b[0m\u001b[0m\n\u001b[0;32m--> 769\u001b[0;31m         \u001b[0montology_terms\u001b[0m\u001b[0;34m=\u001b[0m\u001b[0m_convert_ontologies_to_protos\u001b[0m\u001b[0;34m(\u001b[0m\u001b[0montology_terms\u001b[0m\u001b[0;34m)\u001b[0m\u001b[0;34m,\u001b[0m\u001b[0;34m\u001b[0m\u001b[0;34m\u001b[0m\u001b[0m\n\u001b[0m\u001b[1;32m    770\u001b[0m         \u001b[0mrequested_outputs\u001b[0m\u001b[0;34m=\u001b[0m\u001b[0mrequested_outputs\u001b[0m\u001b[0;34m,\u001b[0m\u001b[0;34m\u001b[0m\u001b[0;34m\u001b[0m\u001b[0m\n\u001b[1;32m    771\u001b[0m         \u001b[0mmodel_version\u001b[0m\u001b[0;34m=\u001b[0m\u001b[0mself\u001b[0m\u001b[0;34m.\u001b[0m\u001b[0m_model_version\u001b[0m\u001b[0;34m,\u001b[0m\u001b[0;34m\u001b[0m\u001b[0;34m\u001b[0m\u001b[0m\n",
            "\u001b[0;32m/usr/local/lib/python3.11/dist-packages/alphagenome/models/dna_client.py\u001b[0m in \u001b[0;36m_convert_ontologies_to_protos\u001b[0;34m(ontology_terms)\u001b[0m\n\u001b[1;32m    511\u001b[0m         \u001b[0mprotos\u001b[0m\u001b[0;34m.\u001b[0m\u001b[0mappend\u001b[0m\u001b[0;34m(\u001b[0m\u001b[0mterm\u001b[0m\u001b[0;34m.\u001b[0m\u001b[0mto_proto\u001b[0m\u001b[0;34m(\u001b[0m\u001b[0;34m)\u001b[0m\u001b[0;34m)\u001b[0m\u001b[0;34m\u001b[0m\u001b[0;34m\u001b[0m\u001b[0m\n\u001b[1;32m    512\u001b[0m       \u001b[0;32melse\u001b[0m\u001b[0;34m:\u001b[0m\u001b[0;34m\u001b[0m\u001b[0;34m\u001b[0m\u001b[0m\n\u001b[0;32m--> 513\u001b[0;31m         \u001b[0mprotos\u001b[0m\u001b[0;34m.\u001b[0m\u001b[0mappend\u001b[0m\u001b[0;34m(\u001b[0m\u001b[0montology\u001b[0m\u001b[0;34m.\u001b[0m\u001b[0mfrom_curie\u001b[0m\u001b[0;34m(\u001b[0m\u001b[0mterm\u001b[0m\u001b[0;34m)\u001b[0m\u001b[0;34m.\u001b[0m\u001b[0mto_proto\u001b[0m\u001b[0;34m(\u001b[0m\u001b[0;34m)\u001b[0m\u001b[0;34m)\u001b[0m\u001b[0;34m\u001b[0m\u001b[0;34m\u001b[0m\u001b[0m\n\u001b[0m\u001b[1;32m    514\u001b[0m     \u001b[0;32mreturn\u001b[0m \u001b[0mprotos\u001b[0m\u001b[0;34m\u001b[0m\u001b[0;34m\u001b[0m\u001b[0m\n\u001b[1;32m    515\u001b[0m \u001b[0;34m\u001b[0m\u001b[0m\n",
            "\u001b[0;32m/usr/local/lib/python3.11/dist-packages/alphagenome/data/ontology.py\u001b[0m in \u001b[0;36mfrom_curie\u001b[0;34m(ontology_curie)\u001b[0m\n\u001b[1;32m     92\u001b[0m     \u001b[0montology_type\u001b[0m \u001b[0;34m=\u001b[0m \u001b[0mOntologyType\u001b[0m\u001b[0;34m[\u001b[0m\u001b[0montology_type\u001b[0m\u001b[0;34m]\u001b[0m\u001b[0;34m\u001b[0m\u001b[0;34m\u001b[0m\u001b[0m\n\u001b[1;32m     93\u001b[0m   \u001b[0;32mexcept\u001b[0m \u001b[0mKeyError\u001b[0m \u001b[0;32mas\u001b[0m \u001b[0me\u001b[0m\u001b[0;34m:\u001b[0m\u001b[0;34m\u001b[0m\u001b[0;34m\u001b[0m\u001b[0m\n\u001b[0;32m---> 94\u001b[0;31m     \u001b[0;32mraise\u001b[0m \u001b[0mValueError\u001b[0m\u001b[0;34m(\u001b[0m\u001b[0;34mf'Cannot parse {ontology_type=}'\u001b[0m\u001b[0;34m)\u001b[0m \u001b[0;32mfrom\u001b[0m \u001b[0me\u001b[0m\u001b[0;34m\u001b[0m\u001b[0;34m\u001b[0m\u001b[0m\n\u001b[0m\u001b[1;32m     95\u001b[0m   \u001b[0;32mreturn\u001b[0m \u001b[0mOntologyTerm\u001b[0m\u001b[0;34m(\u001b[0m\u001b[0montology_type\u001b[0m\u001b[0;34m,\u001b[0m \u001b[0mint\u001b[0m\u001b[0;34m(\u001b[0m\u001b[0mlocal_id\u001b[0m\u001b[0;34m)\u001b[0m\u001b[0;34m)\u001b[0m\u001b[0;34m\u001b[0m\u001b[0;34m\u001b[0m\u001b[0m\n\u001b[1;32m     96\u001b[0m \u001b[0;34m\u001b[0m\u001b[0m\n",
            "\u001b[0;31mValueError\u001b[0m: Cannot parse ontology_type='MONDO'"
          ]
        }
      ]
    },
    {
      "cell_type": "code",
      "execution_count": 50,
      "metadata": {
        "colab": {
          "height": 485,
          "base_uri": "https://localhost:8080/"
        },
        "id": "_OTUiWNjkYVu",
        "outputId": "b8a9e526-2937-4202-b4b0-9f804d388025"
      },
      "outputs": [
        {
          "output_type": "display_data",
          "data": {
            "text/plain": [
              "<Figure size 2000x500 with 5 Axes>"
            ],
            "image/png": "[encoded data removed]"
          },
          "metadata": {}
        }
      ],
      "source": [
        "longest_transcripts = transcript_extractor.extract(interval)\n",
        "\n",
        "plot_components.plot(\n",
        "    [\n",
        "        plot_components.TranscriptAnnotation(longest_transcripts),\n",
        "        plot_components.OverlaidTracks(\n",
        "            tdata={\n",
        "                'REF': variant_output.reference.rna_seq,\n",
        "                'ALT': variant_output.alternate.rna_seq,\n",
        "            },\n",
        "            colors={'REF': 'dimgrey', 'ALT': 'red'},\n",
        "        ),\n",
        "    ],\n",
        "    interval=variant_output.reference.rna_seq.interval.resize(2**15),\n",
        "    # Annotate the location of the variant as a vertical line.\n",
        "    annotations=[plot_components.VariantAnnotation([variant], alpha=0.8)],\n",
        ")\n",
        "plt.show()"
      ]
    },
    {
      "cell_type": "markdown",
      "metadata": {
        "id": "dSz201LRkYVu"
      },
      "source": [
        "We see that the ALT allele (base 'C' at position 36201698) is associated with both lower expression and an exon skipping event in the *APOL4* gene on the negative strand. Note that we can ignore the uppermost line plot which shows a very minimal predicted amount of expression on the positive DNA strand (check the y axis scales). It is possible to adjust the y axes limits, see [visualization basics](https://www.alphagenomedocs.com/visualization_library_basics.html#visualization-library-basics) and [library documentation](https://www.alphagenomedocs.com/api/visualization.html)."
      ]
    },
    {
      "cell_type": "markdown",
      "metadata": {
        "id": "7s4bDxczkYVu"
      },
      "source": [
        "## Scoring the effect of a genetic variant"
      ]
    },
    {
      "cell_type": "markdown",
      "metadata": {
        "id": "8fTtdkpM-Ycm"
      },
      "source": [
        "Scoring the effect of a genetic variant involves making predictions for the REF and ALT sequences and aggregating the track signal. This is implemented in `score_variant`, which uses specific `variant_scorer` configs for aggregation.\n",
        "\n",
        "We provide a set of recommended variant scoring configurations as a dictionary (`variant_scorers.RECOMMENDED_VARIANT_SCORERS`), covering all output types, which we have assessed for their performance at domain-specific tasks. See the [variant scoring documentation](https://www.alphagenomedocs.com/variant_scoring.html) for more information. Here is a quick demo:"
      ]
    },
    {
      "cell_type": "code",
      "execution_count": 51,
      "metadata": {
        "id": "Aj_T3sE8kYVu"
      },
      "outputs": [],
      "source": [
        "variant_scorer = variant_scorers.RECOMMENDED_VARIANT_SCORERS['RNA_SEQ']\n",
        "\n",
        "variant_scores = dna_model.score_variant(\n",
        "    interval=interval, variant=variant, variant_scorers=[variant_scorer]\n",
        ")"
      ]
    },
    {
      "cell_type": "markdown",
      "metadata": {
        "id": "ncUCGp0JkYVu"
      },
      "source": [
        "The returned `variant_scores` is a list of length 1 because we only specified 1 scorer:"
      ]
    },
    {
      "cell_type": "code",
      "execution_count": 52,
      "metadata": {
        "id": "xI2aR0OtkYVu",
        "outputId": "03ed163a-b465-4fef-aea4-6d0f67c4eb91",
        "colab": {
          "base_uri": "https://localhost:8080/"
        }
      },
      "outputs": [
        {
          "output_type": "execute_result",
          "data": {
            "text/plain": [
              "1"
            ]
          },
          "metadata": {},
          "execution_count": 52
        }
      ],
      "source": [
        "len(variant_scores)"
      ]
    },
    {
      "cell_type": "markdown",
      "metadata": {
        "id": "Oow5vOLVkYVu"
      },
      "source": [
        "The actual scores per variant are in `AnnData` format, which is a way of annotating data (the numerical scores) with additional information about the rows and columns."
      ]
    },
    {
      "cell_type": "code",
      "execution_count": 53,
      "metadata": {
        "id": "WCy_9aQ2kYVu",
        "outputId": "6ec76a5d-a4a4-4979-db44-89917d22653f",
        "colab": {
          "base_uri": "https://localhost:8080/"
        }
      },
      "outputs": [
        {
          "output_type": "execute_result",
          "data": {
            "text/plain": [
              "AnnData object with n_obs × n_vars = 15 × 667\n",
              "    obs: 'gene_id', 'strand', 'gene_name', 'gene_type'\n",
              "    var: 'name', 'strand', 'Assay title', 'ontology_curie', 'biosample_name', 'biosample_type', 'biosample_life_stage', 'gtex_tissue', 'data_source', 'endedness', 'genetically_modified', 'nonzero_mean'\n",
              "    uns: 'interval', 'variant', 'variant_scorer'\n",
              "    layers: 'quantiles'"
            ]
          },
          "metadata": {},
          "execution_count": 53
        }
      ],
      "source": [
        "variant_scores = variant_scores[0]\n",
        "variant_scores"
      ]
    },
    {
      "cell_type": "markdown",
      "metadata": {
        "id": "2URPdQGtkYVu"
      },
      "source": [
        "`AnnData` objects have the following components:"
      ]
    },
    {
      "cell_type": "markdown",
      "metadata": {
        "id": "ssPveqJvkYVu"
      },
      "source": [
        "<a href=\"https://services.google.com/fh/files/misc/anndata.png\"><img src=\"https://services.google.com/fh/files/misc/anndata.png\" alt=\"anndata\" border=\"0\" height=500></a>"
      ]
    },
    {
      "cell_type": "markdown",
      "metadata": {
        "id": "X1u94SdOkYVu"
      },
      "source": [
        "We have a variant effect score for each of the 37 genes in the interval and each of the 667 `RNA_SEQ` tracks:"
      ]
    },
    {
      "cell_type": "code",
      "execution_count": 54,
      "metadata": {
        "id": "eyv_SHT_kYVu",
        "outputId": "ea65299b-29ab-4eab-bdd6-b19545b8201b",
        "colab": {
          "base_uri": "https://localhost:8080/"
        }
      },
      "outputs": [
        {
          "output_type": "execute_result",
          "data": {
            "text/plain": [
              "(15, 667)"
            ]
          },
          "metadata": {},
          "execution_count": 54
        }
      ],
      "source": [
        "variant_scores.X.shape"
      ]
    },
    {
      "cell_type": "markdown",
      "metadata": {
        "id": "-3cT3a6FkYVu"
      },
      "source": [
        "We can access information on the 37 genes using `.obs`. Here are just first 5 genes:"
      ]
    },
    {
      "cell_type": "code",
      "execution_count": 55,
      "metadata": {
        "colab": {
          "height": 206,
          "base_uri": "https://localhost:8080/"
        },
        "id": "AQBAsm2skYVu",
        "outputId": "37e273e9-ed61-4b59-f7c2-acf3b56783ce"
      },
      "outputs": [
        {
          "output_type": "execute_result",
          "data": {
            "text/plain": [
              "              gene_id strand gene_name       gene_type\n",
              "0  ENSG00000143222.12      +      UFC1  protein_coding\n",
              "1  ENSG00000143224.18      +      PPOX  protein_coding\n",
              "2  ENSG00000143257.12      -     NR1I3  protein_coding\n",
              "3  ENSG00000143258.17      +     USP21  protein_coding\n",
              "4  ENSG00000158796.17      -      DEDD  protein_coding"
            ],
            "text/html": [
              "\n",
              "  <div id=\"df-a28117ab-e785-438a-a7d3-d9a8928981d0\" class=\"colab-df-container\">\n",
              "    <div>\n",
              "<style scoped>\n",
              "    .dataframe tbody tr th:only-of-type {\n",
              "        vertical-align: middle;\n",
              "    }\n",
              "\n",
              "    .dataframe tbody tr th {\n",
              "        vertical-align: top;\n",
              "    }\n",
              "\n",
              "    .dataframe thead th {\n",
              "        text-align: right;\n",
              "    }\n",
              "</style>\n",
              "<table border=\"1\" class=\"dataframe\">\n",
              "  <thead>\n",
              "    <tr style=\"text-align: right;\">\n",
              "      <th></th>\n",
              "      <th>gene_id</th>\n",
              "      <th>strand</th>\n",
              "      <th>gene_name</th>\n",
              "      <th>gene_type</th>\n",
              "    </tr>\n",
              "  </thead>\n",
              "  <tbody>\n",
              "    <tr>\n",
              "      <th>0</th>\n",
              "      <td>ENSG00000143222.12</td>\n",
              "      <td>+</td>\n",
              "      <td>UFC1</td>\n",
              "      <td>protein_coding</td>\n",
              "    </tr>\n",
              "    <tr>\n",
              "      <th>1</th>\n",
              "      <td>ENSG00000143224.18</td>\n",
              "      <td>+</td>\n",
              "      <td>PPOX</td>\n",
              "      <td>protein_coding</td>\n",
              "    </tr>\n",
              "    <tr>\n",
              "      <th>2</th>\n",
              "      <td>ENSG00000143257.12</td>\n",
              "      <td>-</td>\n",
              "      <td>NR1I3</td>\n",
              "      <td>protein_coding</td>\n",
              "    </tr>\n",
              "    <tr>\n",
              "      <th>3</th>\n",
              "      <td>ENSG00000143258.17</td>\n",
              "      <td>+</td>\n",
              "      <td>USP21</td>\n",
              "      <td>protein_coding</td>\n",
              "    </tr>\n",
              "    <tr>\n",
              "      <th>4</th>\n",
              "      <td>ENSG00000158796.17</td>\n",
              "      <td>-</td>\n",
              "      <td>DEDD</td>\n",
              "      <td>protein_coding</td>\n",
              "    </tr>\n",
              "  </tbody>\n",
              "</table>\n",
              "</div>\n",
              "    <div class=\"colab-df-buttons\">\n",
              "\n",
              "  <div class=\"colab-df-container\">\n",
              "    <button class=\"colab-df-convert\" onclick=\"convertToInteractive('df-a28117ab-e785-438a-a7d3-d9a8928981d0')\"\n",
              "            title=\"Convert this dataframe to an interactive table.\"\n",
              "            style=\"display:none;\">\n",
              "\n",
              "  <svg xmlns=\"http://www.w3.org/2000/svg\" height=\"24px\" viewBox=\"0 -960 960 960\">\n",
              "    <path d=\"M120-120v-720h720v720H120Zm60-500h600v-160H180v160Zm220 220h160v-160H400v160Zm0 220h160v-160H400v160ZM180-400h160v-160H180v160Zm440 0h160v-160H620v160ZM180-180h160v-160H180v160Zm440 0h160v-160H620v160Z\"/>\n",
              "  </svg>\n",
              "    </button>\n",
              "\n",
              "  <style>\n",
              "    .colab-df-container {\n",
              "      display:flex;\n",
              "      gap: 12px;\n",
              "    }\n",
              "\n",
              "    .colab-df-convert {\n",
              "      background-color: #E8F0FE;\n",
              "      border: none;\n",
              "      border-radius: 50%;\n",
              "      cursor: pointer;\n",
              "      display: none;\n",
              "      fill: #1967D2;\n",
              "      height: 32px;\n",
              "      padding: 0 0 0 0;\n",
              "      width: 32px;\n",
              "    }\n",
              "\n",
              "    .colab-df-convert:hover {\n",
              "      background-color: #E2EBFA;\n",
              "      box-shadow: 0px 1px 2px rgba(60, 64, 67, 0.3), 0px 1px 3px 1px rgba(60, 64, 67, 0.15);\n",
              "      fill: #174EA6;\n",
              "    }\n",
              "\n",
              "    .colab-df-buttons div {\n",
              "      margin-bottom: 4px;\n",
              "    }\n",
              "\n",
              "    [theme=dark] .colab-df-convert {\n",
              "      background-color: #3B4455;\n",
              "      fill: #D2E3FC;\n",
              "    }\n",
              "\n",
              "    [theme=dark] .colab-df-convert:hover {\n",
              "      background-color: #434B5C;\n",
              "      box-shadow: 0px 1px 3px 1px rgba(0, 0, 0, 0.15);\n",
              "      filter: drop-shadow(0px 1px 2px rgba(0, 0, 0, 0.3));\n",
              "      fill: #FFFFFF;\n",
              "    }\n",
              "  </style>\n",
              "\n",
              "    <script>\n",
              "      const buttonEl =\n",
              "        document.querySelector('#df-a28117ab-e785-438a-a7d3-d9a8928981d0 button.colab-df-convert');\n",
              "      buttonEl.style.display =\n",
              "        google.colab.kernel.accessAllowed ? 'block' : 'none';\n",
              "\n",
              "      async function convertToInteractive(key) {\n",
              "        const element = document.querySelector('#df-a28117ab-e785-438a-a7d3-d9a8928981d0');\n",
              "        const dataTable =\n",
              "          await google.colab.kernel.invokeFunction('convertToInteractive',\n",
              "                                                    [key], {});\n",
              "        if (!dataTable) return;\n",
              "\n",
              "        const docLinkHtml = 'Like what you see? Visit the ' +\n",
              "          '<a target=\"_blank\" href=https://colab.research.google.com/notebooks/data_table.ipynb>data table notebook</a>'\n",
              "          + ' to learn more about interactive tables.';\n",
              "        element.innerHTML = '';\n",
              "        dataTable['output_type'] = 'display_data';\n",
              "        await google.colab.output.renderOutput(dataTable, element);\n",
              "        const docLink = document.createElement('div');\n",
              "        docLink.innerHTML = docLinkHtml;\n",
              "        element.appendChild(docLink);\n",
              "      }\n",
              "    </script>\n",
              "  </div>\n",
              "\n",
              "\n",
              "    <div id=\"df-c847990d-a8ce-4c43-9ada-2d2bdd9fc9ca\">\n",
              "      <button class=\"colab-df-quickchart\" onclick=\"quickchart('df-c847990d-a8ce-4c43-9ada-2d2bdd9fc9ca')\"\n",
              "                title=\"Suggest charts\"\n",
              "                style=\"display:none;\">\n",
              "\n",
              "<svg xmlns=\"http://www.w3.org/2000/svg\" height=\"24px\"viewBox=\"0 0 24 24\"\n",
              "     width=\"24px\">\n",
              "    <g>\n",
              "        <path d=\"M19 3H5c-1.1 0-2 .9-2 2v14c0 1.1.9 2 2 2h14c1.1 0 2-.9 2-2V5c0-1.1-.9-2-2-2zM9 17H7v-7h2v7zm4 0h-2V7h2v10zm4 0h-2v-4h2v4z\"/>\n",
              "    </g>\n",
              "</svg>\n",
              "      </button>\n",
              "\n",
              "<style>\n",
              "  .colab-df-quickchart {\n",
              "      --bg-color: #E8F0FE;\n",
              "      --fill-color: #1967D2;\n",
              "      --hover-bg-color: #E2EBFA;\n",
              "      --hover-fill-color: #174EA6;\n",
              "      --disabled-fill-color: #AAA;\n",
              "      --disabled-bg-color: #DDD;\n",
              "  }\n",
              "\n",
              "  [theme=dark] .colab-df-quickchart {\n",
              "      --bg-color: #3B4455;\n",
              "      --fill-color: #D2E3FC;\n",
              "      --hover-bg-color: #434B5C;\n",
              "      --hover-fill-color: #FFFFFF;\n",
              "      --disabled-bg-color: #3B4455;\n",
              "      --disabled-fill-color: #666;\n",
              "  }\n",
              "\n",
              "  .colab-df-quickchart {\n",
              "    background-color: var(--bg-color);\n",
              "    border: none;\n",
              "    border-radius: 50%;\n",
              "    cursor: pointer;\n",
              "    display: none;\n",
              "    fill: var(--fill-color);\n",
              "    height: 32px;\n",
              "    padding: 0;\n",
              "    width: 32px;\n",
              "  }\n",
              "\n",
              "  .colab-df-quickchart:hover {\n",
              "    background-color: var(--hover-bg-color);\n",
              "    box-shadow: 0 1px 2px rgba(60, 64, 67, 0.3), 0 1px 3px 1px rgba(60, 64, 67, 0.15);\n",
              "    fill: var(--button-hover-fill-color);\n",
              "  }\n",
              "\n",
              "  .colab-df-quickchart-complete:disabled,\n",
              "  .colab-df-quickchart-complete:disabled:hover {\n",
              "    background-color: var(--disabled-bg-color);\n",
              "    fill: var(--disabled-fill-color);\n",
              "    box-shadow: none;\n",
              "  }\n",
              "\n",
              "  .colab-df-spinner {\n",
              "    border: 2px solid var(--fill-color);\n",
              "    border-color: transparent;\n",
              "    border-bottom-color: var(--fill-color);\n",
              "    animation:\n",
              "      spin 1s steps(1) infinite;\n",
              "  }\n",
              "\n",
              "  @keyframes spin {\n",
              "    0% {\n",
              "      border-color: transparent;\n",
              "      border-bottom-color: var(--fill-color);\n",
              "      border-left-color: var(--fill-color);\n",
              "    }\n",
              "    20% {\n",
              "      border-color: transparent;\n",
              "      border-left-color: var(--fill-color);\n",
              "      border-top-color: var(--fill-color);\n",
              "    }\n",
              "    30% {\n",
              "      border-color: transparent;\n",
              "      border-left-color: var(--fill-color);\n",
              "      border-top-color: var(--fill-color);\n",
              "      border-right-color: var(--fill-color);\n",
              "    }\n",
              "    40% {\n",
              "      border-color: transparent;\n",
              "      border-right-color: var(--fill-color);\n",
              "      border-top-color: var(--fill-color);\n",
              "    }\n",
              "    60% {\n",
              "      border-color: transparent;\n",
              "      border-right-color: var(--fill-color);\n",
              "    }\n",
              "    80% {\n",
              "      border-color: transparent;\n",
              "      border-right-color: var(--fill-color);\n",
              "      border-bottom-color: var(--fill-color);\n",
              "    }\n",
              "    90% {\n",
              "      border-color: transparent;\n",
              "      border-bottom-color: var(--fill-color);\n",
              "    }\n",
              "  }\n",
              "</style>\n",
              "\n",
              "      <script>\n",
              "        async function quickchart(key) {\n",
              "          const quickchartButtonEl =\n",
              "            document.querySelector('#' + key + ' button');\n",
              "          quickchartButtonEl.disabled = true;  // To prevent multiple clicks.\n",
              "          quickchartButtonEl.classList.add('colab-df-spinner');\n",
              "          try {\n",
              "            const charts = await google.colab.kernel.invokeFunction(\n",
              "                'suggestCharts', [key], {});\n",
              "          } catch (error) {\n",
              "            console.error('Error during call to suggestCharts:', error);\n",
              "          }\n",
              "          quickchartButtonEl.classList.remove('colab-df-spinner');\n",
              "          quickchartButtonEl.classList.add('colab-df-quickchart-complete');\n",
              "        }\n",
              "        (() => {\n",
              "          let quickchartButtonEl =\n",
              "            document.querySelector('#df-c847990d-a8ce-4c43-9ada-2d2bdd9fc9ca button');\n",
              "          quickchartButtonEl.style.display =\n",
              "            google.colab.kernel.accessAllowed ? 'block' : 'none';\n",
              "        })();\n",
              "      </script>\n",
              "    </div>\n",
              "\n",
              "    </div>\n",
              "  </div>\n"
            ],
            "application/vnd.google.colaboratory.intrinsic+json": {
              "type": "dataframe",
              "summary": "{\n  \"name\": \"variant_scores\",\n  \"rows\": 5,\n  \"fields\": [\n    {\n      \"column\": \"gene_id\",\n      \"properties\": {\n        \"dtype\": \"string\",\n        \"num_unique_values\": 5,\n        \"samples\": [\n          \"ENSG00000143224.18\",\n          \"ENSG00000158796.17\",\n          \"ENSG00000143257.12\"\n        ],\n        \"semantic_type\": \"\",\n        \"description\": \"\"\n      }\n    },\n    {\n      \"column\": \"strand\",\n      \"properties\": {\n        \"dtype\": \"category\",\n        \"num_unique_values\": 2,\n        \"samples\": [\n          \"-\",\n          \"+\"\n        ],\n        \"semantic_type\": \"\",\n        \"description\": \"\"\n      }\n    },\n    {\n      \"column\": \"gene_name\",\n      \"properties\": {\n        \"dtype\": \"string\",\n        \"num_unique_values\": 5,\n        \"samples\": [\n          \"PPOX\",\n          \"DEDD\"\n        ],\n        \"semantic_type\": \"\",\n        \"description\": \"\"\n      }\n    },\n    {\n      \"column\": \"gene_type\",\n      \"properties\": {\n        \"dtype\": \"category\",\n        \"num_unique_values\": 1,\n        \"samples\": [\n          \"protein_coding\"\n        ],\n        \"semantic_type\": \"\",\n        \"description\": \"\"\n      }\n    }\n  ]\n}"
            }
          },
          "metadata": {},
          "execution_count": 55
        }
      ],
      "source": [
        "variant_scores.obs.head()"
      ]
    },
    {
      "cell_type": "markdown",
      "metadata": {
        "id": "p6mVhremkYVu"
      },
      "source": [
        "Note that if you are using a variant scorer that is not gene-specific (i.e., a `variant_scorers.CenterMaskScorer`), then `variant_scores.X` would have shape `(1, 667)` and there will be no gene metadata available since there is no concept of genes in this scenario.\n",
        "\n",
        "The description of each track is accessed using `.var` (this is the same dataframe as the output metadata, but is included alongside the variant scores for convenience):"
      ]
    },
    {
      "cell_type": "code",
      "execution_count": 56,
      "metadata": {
        "colab": {
          "height": 930,
          "base_uri": "https://localhost:8080/"
        },
        "id": "J_VRdJMakYVu",
        "outputId": "ddd69690-64c2-4419-c394-47ec863b7492"
      },
      "outputs": [
        {
          "output_type": "execute_result",
          "data": {
            "text/plain": [
              "                                                  name strand  \\\n",
              "0                        CL:0000047 polyA plus RNA-seq      +   \n",
              "1                             CL:0000062 total RNA-seq      +   \n",
              "2                        CL:0000084 polyA plus RNA-seq      +   \n",
              "3                             CL:0000084 total RNA-seq      +   \n",
              "4                             CL:0000115 total RNA-seq      +   \n",
              "..                                                 ...    ...   \n",
              "662                  UBERON:0018115 polyA plus RNA-seq      .   \n",
              "663                  UBERON:0018116 polyA plus RNA-seq      .   \n",
              "664                  UBERON:0018117 polyA plus RNA-seq      .   \n",
              "665                  UBERON:0018118 polyA plus RNA-seq      .   \n",
              "666  UBERON:0036149 gtex Skin_Not_Sun_Exposed_Supra...      .   \n",
              "\n",
              "            Assay title  ontology_curie                   biosample_name  \\\n",
              "0    polyA plus RNA-seq      CL:0000047               neuronal stem cell   \n",
              "1         total RNA-seq      CL:0000062                       osteoblast   \n",
              "2    polyA plus RNA-seq      CL:0000084                           T-cell   \n",
              "3         total RNA-seq      CL:0000084                           T-cell   \n",
              "4         total RNA-seq      CL:0000115                 endothelial cell   \n",
              "..                  ...             ...                              ...   \n",
              "662  polyA plus RNA-seq  UBERON:0018115                left renal pelvis   \n",
              "663  polyA plus RNA-seq  UBERON:0018116               right renal pelvis   \n",
              "664  polyA plus RNA-seq  UBERON:0018117   left renal cortex interstitium   \n",
              "665  polyA plus RNA-seq  UBERON:0018118  right renal cortex interstitium   \n",
              "666  polyA plus RNA-seq  UBERON:0036149                  suprapubic skin   \n",
              "\n",
              "                    biosample_type biosample_life_stage  \\\n",
              "0    in_vitro_differentiated_cells            embryonic   \n",
              "1                     primary_cell                adult   \n",
              "2                     primary_cell                adult   \n",
              "3                     primary_cell                adult   \n",
              "4    in_vitro_differentiated_cells                adult   \n",
              "..                             ...                  ...   \n",
              "662                         tissue            embryonic   \n",
              "663                         tissue            embryonic   \n",
              "664                         tissue            embryonic   \n",
              "665                         tissue            embryonic   \n",
              "666                         tissue                adult   \n",
              "\n",
              "                         gtex_tissue data_source endedness  \\\n",
              "0                                         encode    paired   \n",
              "1                                         encode    paired   \n",
              "2                                         encode    paired   \n",
              "3                                         encode    single   \n",
              "4                                         encode    single   \n",
              "..                               ...         ...       ...   \n",
              "662                                       encode    single   \n",
              "663                                       encode    single   \n",
              "664                                       encode    single   \n",
              "665                                       encode    single   \n",
              "666  Skin_Not_Sun_Exposed_Suprapubic        gtex    paired   \n",
              "\n",
              "     genetically_modified  nonzero_mean  \n",
              "0                   False      0.143617  \n",
              "1                   False      0.094144  \n",
              "2                   False      0.124296  \n",
              "3                   False      0.100934  \n",
              "4                   False      0.135553  \n",
              "..                    ...           ...  \n",
              "662                 False      0.268222  \n",
              "663                 False      0.258522  \n",
              "664                 False      0.215190  \n",
              "665                 False      0.365676  \n",
              "666                 False      0.045404  \n",
              "\n",
              "[667 rows x 12 columns]"
            ],
            "text/html": [
              "\n",
              "  <div id=\"df-5dafa7c3-488e-4551-a5c2-6f5de7773d0b\" class=\"colab-df-container\">\n",
              "    <div>\n",
              "<style scoped>\n",
              "    .dataframe tbody tr th:only-of-type {\n",
              "        vertical-align: middle;\n",
              "    }\n",
              "\n",
              "    .dataframe tbody tr th {\n",
              "        vertical-align: top;\n",
              "    }\n",
              "\n",
              "    .dataframe thead th {\n",
              "        text-align: right;\n",
              "    }\n",
              "</style>\n",
              "<table border=\"1\" class=\"dataframe\">\n",
              "  <thead>\n",
              "    <tr style=\"text-align: right;\">\n",
              "      <th></th>\n",
              "      <th>name</th>\n",
              "      <th>strand</th>\n",
              "      <th>Assay title</th>\n",
              "      <th>ontology_curie</th>\n",
              "      <th>biosample_name</th>\n",
              "      <th>biosample_type</th>\n",
              "      <th>biosample_life_stage</th>\n",
              "      <th>gtex_tissue</th>\n",
              "      <th>data_source</th>\n",
              "      <th>endedness</th>\n",
              "      <th>genetically_modified</th>\n",
              "      <th>nonzero_mean</th>\n",
              "    </tr>\n",
              "  </thead>\n",
              "  <tbody>\n",
              "    <tr>\n",
              "      <th>0</th>\n",
              "      <td>CL:0000047 polyA plus RNA-seq</td>\n",
              "      <td>+</td>\n",
              "      <td>polyA plus RNA-seq</td>\n",
              "      <td>CL:0000047</td>\n",
              "      <td>neuronal stem cell</td>\n",
              "      <td>in_vitro_differentiated_cells</td>\n",
              "      <td>embryonic</td>\n",
              "      <td></td>\n",
              "      <td>encode</td>\n",
              "      <td>paired</td>\n",
              "      <td>False</td>\n",
              "      <td>0.143617</td>\n",
              "    </tr>\n",
              "    <tr>\n",
              "      <th>1</th>\n",
              "      <td>CL:0000062 total RNA-seq</td>\n",
              "      <td>+</td>\n",
              "      <td>total RNA-seq</td>\n",
              "      <td>CL:0000062</td>\n",
              "      <td>osteoblast</td>\n",
              "      <td>primary_cell</td>\n",
              "      <td>adult</td>\n",
              "      <td></td>\n",
              "      <td>encode</td>\n",
              "      <td>paired</td>\n",
              "      <td>False</td>\n",
              "      <td>0.094144</td>\n",
              "    </tr>\n",
              "    <tr>\n",
              "      <th>2</th>\n",
              "      <td>CL:0000084 polyA plus RNA-seq</td>\n",
              "      <td>+</td>\n",
              "      <td>polyA plus RNA-seq</td>\n",
              "      <td>CL:0000084</td>\n",
              "      <td>T-cell</td>\n",
              "      <td>primary_cell</td>\n",
              "      <td>adult</td>\n",
              "      <td></td>\n",
              "      <td>encode</td>\n",
              "      <td>paired</td>\n",
              "      <td>False</td>\n",
              "      <td>0.124296</td>\n",
              "    </tr>\n",
              "    <tr>\n",
              "      <th>3</th>\n",
              "      <td>CL:0000084 total RNA-seq</td>\n",
              "      <td>+</td>\n",
              "      <td>total RNA-seq</td>\n",
              "      <td>CL:0000084</td>\n",
              "      <td>T-cell</td>\n",
              "      <td>primary_cell</td>\n",
              "      <td>adult</td>\n",
              "      <td></td>\n",
              "      <td>encode</td>\n",
              "      <td>single</td>\n",
              "      <td>False</td>\n",
              "      <td>0.100934</td>\n",
              "    </tr>\n",
              "    <tr>\n",
              "      <th>4</th>\n",
              "      <td>CL:0000115 total RNA-seq</td>\n",
              "      <td>+</td>\n",
              "      <td>total RNA-seq</td>\n",
              "      <td>CL:0000115</td>\n",
              "      <td>endothelial cell</td>\n",
              "      <td>in_vitro_differentiated_cells</td>\n",
              "      <td>adult</td>\n",
              "      <td></td>\n",
              "      <td>encode</td>\n",
              "      <td>single</td>\n",
              "      <td>False</td>\n",
              "      <td>0.135553</td>\n",
              "    </tr>\n",
              "    <tr>\n",
              "      <th>...</th>\n",
              "      <td>...</td>\n",
              "      <td>...</td>\n",
              "      <td>...</td>\n",
              "      <td>...</td>\n",
              "      <td>...</td>\n",
              "      <td>...</td>\n",
              "      <td>...</td>\n",
              "      <td>...</td>\n",
              "      <td>...</td>\n",
              "      <td>...</td>\n",
              "      <td>...</td>\n",
              "      <td>...</td>\n",
              "    </tr>\n",
              "    <tr>\n",
              "      <th>662</th>\n",
              "      <td>UBERON:0018115 polyA plus RNA-seq</td>\n",
              "      <td>.</td>\n",
              "      <td>polyA plus RNA-seq</td>\n",
              "      <td>UBERON:0018115</td>\n",
              "      <td>left renal pelvis</td>\n",
              "      <td>tissue</td>\n",
              "      <td>embryonic</td>\n",
              "      <td></td>\n",
              "      <td>encode</td>\n",
              "      <td>single</td>\n",
              "      <td>False</td>\n",
              "      <td>0.268222</td>\n",
              "    </tr>\n",
              "    <tr>\n",
              "      <th>663</th>\n",
              "      <td>UBERON:0018116 polyA plus RNA-seq</td>\n",
              "      <td>.</td>\n",
              "      <td>polyA plus RNA-seq</td>\n",
              "      <td>UBERON:0018116</td>\n",
              "      <td>right renal pelvis</td>\n",
              "      <td>tissue</td>\n",
              "      <td>embryonic</td>\n",
              "      <td></td>\n",
              "      <td>encode</td>\n",
              "      <td>single</td>\n",
              "      <td>False</td>\n",
              "      <td>0.258522</td>\n",
              "    </tr>\n",
              "    <tr>\n",
              "      <th>664</th>\n",
              "      <td>UBERON:0018117 polyA plus RNA-seq</td>\n",
              "      <td>.</td>\n",
              "      <td>polyA plus RNA-seq</td>\n",
              "      <td>UBERON:0018117</td>\n",
              "      <td>left renal cortex interstitium</td>\n",
              "      <td>tissue</td>\n",
              "      <td>embryonic</td>\n",
              "      <td></td>\n",
              "      <td>encode</td>\n",
              "      <td>single</td>\n",
              "      <td>False</td>\n",
              "      <td>0.215190</td>\n",
              "    </tr>\n",
              "    <tr>\n",
              "      <th>665</th>\n",
              "      <td>UBERON:0018118 polyA plus RNA-seq</td>\n",
              "      <td>.</td>\n",
              "      <td>polyA plus RNA-seq</td>\n",
              "      <td>UBERON:0018118</td>\n",
              "      <td>right renal cortex interstitium</td>\n",
              "      <td>tissue</td>\n",
              "      <td>embryonic</td>\n",
              "      <td></td>\n",
              "      <td>encode</td>\n",
              "      <td>single</td>\n",
              "      <td>False</td>\n",
              "      <td>0.365676</td>\n",
              "    </tr>\n",
              "    <tr>\n",
              "      <th>666</th>\n",
              "      <td>UBERON:0036149 gtex Skin_Not_Sun_Exposed_Supra...</td>\n",
              "      <td>.</td>\n",
              "      <td>polyA plus RNA-seq</td>\n",
              "      <td>UBERON:0036149</td>\n",
              "      <td>suprapubic skin</td>\n",
              "      <td>tissue</td>\n",
              "      <td>adult</td>\n",
              "      <td>Skin_Not_Sun_Exposed_Suprapubic</td>\n",
              "      <td>gtex</td>\n",
              "      <td>paired</td>\n",
              "      <td>False</td>\n",
              "      <td>0.045404</td>\n",
              "    </tr>\n",
              "  </tbody>\n",
              "</table>\n",
              "<p>667 rows × 12 columns</p>\n",
              "</div>\n",
              "    <div class=\"colab-df-buttons\">\n",
              "\n",
              "  <div class=\"colab-df-container\">\n",
              "    <button class=\"colab-df-convert\" onclick=\"convertToInteractive('df-5dafa7c3-488e-4551-a5c2-6f5de7773d0b')\"\n",
              "            title=\"Convert this dataframe to an interactive table.\"\n",
              "            style=\"display:none;\">\n",
              "\n",
              "  <svg xmlns=\"http://www.w3.org/2000/svg\" height=\"24px\" viewBox=\"0 -960 960 960\">\n",
              "    <path d=\"M120-120v-720h720v720H120Zm60-500h600v-160H180v160Zm220 220h160v-160H400v160Zm0 220h160v-160H400v160ZM180-400h160v-160H180v160Zm440 0h160v-160H620v160ZM180-180h160v-160H180v160Zm440 0h160v-160H620v160Z\"/>\n",
              "  </svg>\n",
              "    </button>\n",
              "\n",
              "  <style>\n",
              "    .colab-df-container {\n",
              "      display:flex;\n",
              "      gap: 12px;\n",
              "    }\n",
              "\n",
              "    .colab-df-convert {\n",
              "      background-color: #E8F0FE;\n",
              "      border: none;\n",
              "      border-radius: 50%;\n",
              "      cursor: pointer;\n",
              "      display: none;\n",
              "      fill: #1967D2;\n",
              "      height: 32px;\n",
              "      padding: 0 0 0 0;\n",
              "      width: 32px;\n",
              "    }\n",
              "\n",
              "    .colab-df-convert:hover {\n",
              "      background-color: #E2EBFA;\n",
              "      box-shadow: 0px 1px 2px rgba(60, 64, 67, 0.3), 0px 1px 3px 1px rgba(60, 64, 67, 0.15);\n",
              "      fill: #174EA6;\n",
              "    }\n",
              "\n",
              "    .colab-df-buttons div {\n",
              "      margin-bottom: 4px;\n",
              "    }\n",
              "\n",
              "    [theme=dark] .colab-df-convert {\n",
              "      background-color: #3B4455;\n",
              "      fill: #D2E3FC;\n",
              "    }\n",
              "\n",
              "    [theme=dark] .colab-df-convert:hover {\n",
              "      background-color: #434B5C;\n",
              "      box-shadow: 0px 1px 3px 1px rgba(0, 0, 0, 0.15);\n",
              "      filter: drop-shadow(0px 1px 2px rgba(0, 0, 0, 0.3));\n",
              "      fill: #FFFFFF;\n",
              "    }\n",
              "  </style>\n",
              "\n",
              "    <script>\n",
              "      const buttonEl =\n",
              "        document.querySelector('#df-5dafa7c3-488e-4551-a5c2-6f5de7773d0b button.colab-df-convert');\n",
              "      buttonEl.style.display =\n",
              "        google.colab.kernel.accessAllowed ? 'block' : 'none';\n",
              "\n",
              "      async function convertToInteractive(key) {\n",
              "        const element = document.querySelector('#df-5dafa7c3-488e-4551-a5c2-6f5de7773d0b');\n",
              "        const dataTable =\n",
              "          await google.colab.kernel.invokeFunction('convertToInteractive',\n",
              "                                                    [key], {});\n",
              "        if (!dataTable) return;\n",
              "\n",
              "        const docLinkHtml = 'Like what you see? Visit the ' +\n",
              "          '<a target=\"_blank\" href=https://colab.research.google.com/notebooks/data_table.ipynb>data table notebook</a>'\n",
              "          + ' to learn more about interactive tables.';\n",
              "        element.innerHTML = '';\n",
              "        dataTable['output_type'] = 'display_data';\n",
              "        await google.colab.output.renderOutput(dataTable, element);\n",
              "        const docLink = document.createElement('div');\n",
              "        docLink.innerHTML = docLinkHtml;\n",
              "        element.appendChild(docLink);\n",
              "      }\n",
              "    </script>\n",
              "  </div>\n",
              "\n",
              "\n",
              "    <div id=\"df-e4fc5eb3-67b9-446b-b26a-3d233f5108a3\">\n",
              "      <button class=\"colab-df-quickchart\" onclick=\"quickchart('df-e4fc5eb3-67b9-446b-b26a-3d233f5108a3')\"\n",
              "                title=\"Suggest charts\"\n",
              "                style=\"display:none;\">\n",
              "\n",
              "<svg xmlns=\"http://www.w3.org/2000/svg\" height=\"24px\"viewBox=\"0 0 24 24\"\n",
              "     width=\"24px\">\n",
              "    <g>\n",
              "        <path d=\"M19 3H5c-1.1 0-2 .9-2 2v14c0 1.1.9 2 2 2h14c1.1 0 2-.9 2-2V5c0-1.1-.9-2-2-2zM9 17H7v-7h2v7zm4 0h-2V7h2v10zm4 0h-2v-4h2v4z\"/>\n",
              "    </g>\n",
              "</svg>\n",
              "      </button>\n",
              "\n",
              "<style>\n",
              "  .colab-df-quickchart {\n",
              "      --bg-color: #E8F0FE;\n",
              "      --fill-color: #1967D2;\n",
              "      --hover-bg-color: #E2EBFA;\n",
              "      --hover-fill-color: #174EA6;\n",
              "      --disabled-fill-color: #AAA;\n",
              "      --disabled-bg-color: #DDD;\n",
              "  }\n",
              "\n",
              "  [theme=dark] .colab-df-quickchart {\n",
              "      --bg-color: #3B4455;\n",
              "      --fill-color: #D2E3FC;\n",
              "      --hover-bg-color: #434B5C;\n",
              "      --hover-fill-color: #FFFFFF;\n",
              "      --disabled-bg-color: #3B4455;\n",
              "      --disabled-fill-color: #666;\n",
              "  }\n",
              "\n",
              "  .colab-df-quickchart {\n",
              "    background-color: var(--bg-color);\n",
              "    border: none;\n",
              "    border-radius: 50%;\n",
              "    cursor: pointer;\n",
              "    display: none;\n",
              "    fill: var(--fill-color);\n",
              "    height: 32px;\n",
              "    padding: 0;\n",
              "    width: 32px;\n",
              "  }\n",
              "\n",
              "  .colab-df-quickchart:hover {\n",
              "    background-color: var(--hover-bg-color);\n",
              "    box-shadow: 0 1px 2px rgba(60, 64, 67, 0.3), 0 1px 3px 1px rgba(60, 64, 67, 0.15);\n",
              "    fill: var(--button-hover-fill-color);\n",
              "  }\n",
              "\n",
              "  .colab-df-quickchart-complete:disabled,\n",
              "  .colab-df-quickchart-complete:disabled:hover {\n",
              "    background-color: var(--disabled-bg-color);\n",
              "    fill: var(--disabled-fill-color);\n",
              "    box-shadow: none;\n",
              "  }\n",
              "\n",
              "  .colab-df-spinner {\n",
              "    border: 2px solid var(--fill-color);\n",
              "    border-color: transparent;\n",
              "    border-bottom-color: var(--fill-color);\n",
              "    animation:\n",
              "      spin 1s steps(1) infinite;\n",
              "  }\n",
              "\n",
              "  @keyframes spin {\n",
              "    0% {\n",
              "      border-color: transparent;\n",
              "      border-bottom-color: var(--fill-color);\n",
              "      border-left-color: var(--fill-color);\n",
              "    }\n",
              "    20% {\n",
              "      border-color: transparent;\n",
              "      border-left-color: var(--fill-color);\n",
              "      border-top-color: var(--fill-color);\n",
              "    }\n",
              "    30% {\n",
              "      border-color: transparent;\n",
              "      border-left-color: var(--fill-color);\n",
              "      border-top-color: var(--fill-color);\n",
              "      border-right-color: var(--fill-color);\n",
              "    }\n",
              "    40% {\n",
              "      border-color: transparent;\n",
              "      border-right-color: var(--fill-color);\n",
              "      border-top-color: var(--fill-color);\n",
              "    }\n",
              "    60% {\n",
              "      border-color: transparent;\n",
              "      border-right-color: var(--fill-color);\n",
              "    }\n",
              "    80% {\n",
              "      border-color: transparent;\n",
              "      border-right-color: var(--fill-color);\n",
              "      border-bottom-color: var(--fill-color);\n",
              "    }\n",
              "    90% {\n",
              "      border-color: transparent;\n",
              "      border-bottom-color: var(--fill-color);\n",
              "    }\n",
              "  }\n",
              "</style>\n",
              "\n",
              "      <script>\n",
              "        async function quickchart(key) {\n",
              "          const quickchartButtonEl =\n",
              "            document.querySelector('#' + key + ' button');\n",
              "          quickchartButtonEl.disabled = true;  // To prevent multiple clicks.\n",
              "          quickchartButtonEl.classList.add('colab-df-spinner');\n",
              "          try {\n",
              "            const charts = await google.colab.kernel.invokeFunction(\n",
              "                'suggestCharts', [key], {});\n",
              "          } catch (error) {\n",
              "            console.error('Error during call to suggestCharts:', error);\n",
              "          }\n",
              "          quickchartButtonEl.classList.remove('colab-df-spinner');\n",
              "          quickchartButtonEl.classList.add('colab-df-quickchart-complete');\n",
              "        }\n",
              "        (() => {\n",
              "          let quickchartButtonEl =\n",
              "            document.querySelector('#df-e4fc5eb3-67b9-446b-b26a-3d233f5108a3 button');\n",
              "          quickchartButtonEl.style.display =\n",
              "            google.colab.kernel.accessAllowed ? 'block' : 'none';\n",
              "        })();\n",
              "      </script>\n",
              "    </div>\n",
              "\n",
              "    </div>\n",
              "  </div>\n"
            ],
            "application/vnd.google.colaboratory.intrinsic+json": {
              "type": "dataframe",
              "summary": "{\n  \"name\": \"variant_scores\",\n  \"rows\": 667,\n  \"fields\": [\n    {\n      \"column\": \"name\",\n      \"properties\": {\n        \"dtype\": \"string\",\n        \"num_unique_values\": 371,\n        \"samples\": [\n          \"UBERON:0001873 gtex Brain_Caudate_basal_ganglia polyA plus RNA-seq\",\n          \"CL:0000792 total RNA-seq\",\n          \"CL:0000223 polyA plus RNA-seq\"\n        ],\n        \"semantic_type\": \"\",\n        \"description\": \"\"\n      }\n    },\n    {\n      \"column\": \"strand\",\n      \"properties\": {\n        \"dtype\": \"category\",\n        \"num_unique_values\": 3,\n        \"samples\": [\n          \"+\",\n          \"-\",\n          \".\"\n        ],\n        \"semantic_type\": \"\",\n        \"description\": \"\"\n      }\n    },\n    {\n      \"column\": \"Assay title\",\n      \"properties\": {\n        \"dtype\": \"category\",\n        \"num_unique_values\": 2,\n        \"samples\": [\n          \"total RNA-seq\",\n          \"polyA plus RNA-seq\"\n        ],\n        \"semantic_type\": \"\",\n        \"description\": \"\"\n      }\n    },\n    {\n      \"column\": \"ontology_curie\",\n      \"properties\": {\n        \"dtype\": \"category\",\n        \"num_unique_values\": 285,\n        \"samples\": [\n          \"CL:0000182\",\n          \"NTR:0000524\"\n        ],\n        \"semantic_type\": \"\",\n        \"description\": \"\"\n      }\n    },\n    {\n      \"column\": \"biosample_name\",\n      \"properties\": {\n        \"dtype\": \"category\",\n        \"num_unique_values\": 285,\n        \"samples\": [\n          \"hepatocyte\",\n          \"fibroblast of skin of scalp\"\n        ],\n        \"semantic_type\": \"\",\n        \"description\": \"\"\n      }\n    },\n    {\n      \"column\": \"biosample_type\",\n      \"properties\": {\n        \"dtype\": \"category\",\n        \"num_unique_values\": 4,\n        \"samples\": [\n          \"primary_cell\",\n          \"tissue\"\n        ],\n        \"semantic_type\": \"\",\n        \"description\": \"\"\n      }\n    },\n    {\n      \"column\": \"biosample_life_stage\",\n      \"properties\": {\n        \"dtype\": \"category\",\n        \"num_unique_values\": 10,\n        \"samples\": [\n          \"adult,unknown\",\n          \"adult\"\n        ],\n        \"semantic_type\": \"\",\n        \"description\": \"\"\n      }\n    },\n    {\n      \"column\": \"gtex_tissue\",\n      \"properties\": {\n        \"dtype\": \"category\",\n        \"num_unique_values\": 55,\n        \"samples\": [\n          \"Spleen\",\n          \"Testis\"\n        ],\n        \"semantic_type\": \"\",\n        \"description\": \"\"\n      }\n    },\n    {\n      \"column\": \"data_source\",\n      \"properties\": {\n        \"dtype\": \"category\",\n        \"num_unique_values\": 2,\n        \"samples\": [\n          \"gtex\",\n          \"encode\"\n        ],\n        \"semantic_type\": \"\",\n        \"description\": \"\"\n      }\n    },\n    {\n      \"column\": \"endedness\",\n      \"properties\": {\n        \"dtype\": \"category\",\n        \"num_unique_values\": 2,\n        \"samples\": [\n          \"single\",\n          \"paired\"\n        ],\n        \"semantic_type\": \"\",\n        \"description\": \"\"\n      }\n    },\n    {\n      \"column\": \"genetically_modified\",\n      \"properties\": {\n        \"dtype\": \"boolean\",\n        \"num_unique_values\": 1,\n        \"samples\": [\n          false\n        ],\n        \"semantic_type\": \"\",\n        \"description\": \"\"\n      }\n    },\n    {\n      \"column\": \"nonzero_mean\",\n      \"properties\": {\n        \"dtype\": \"number\",\n        \"std\": 0.1649971323318487,\n        \"min\": 0.03440511226654053,\n        \"max\": 1.3723630905151367,\n        \"num_unique_values\": 396,\n        \"samples\": [\n          0.189997598528862\n        ],\n        \"semantic_type\": \"\",\n        \"description\": \"\"\n      }\n    }\n  ]\n}"
            }
          },
          "metadata": {},
          "execution_count": 56
        }
      ],
      "source": [
        "variant_scores.var"
      ]
    },
    {
      "cell_type": "markdown",
      "metadata": {
        "id": "rrbvEe4xkYVu"
      },
      "source": [
        "Some handy additional metadata can be found in `.uns`:"
      ]
    },
    {
      "cell_type": "code",
      "execution_count": 57,
      "metadata": {
        "id": "n3GGvosdkYVu",
        "outputId": "74fa714d-bf23-4f8d-bd1d-6d54bdb1974e",
        "colab": {
          "base_uri": "https://localhost:8080/"
        }
      },
      "outputs": [
        {
          "output_type": "stream",
          "name": "stdout",
          "text": [
            "Interval: chr1:161123821-161254893:.\n",
            "Variant: chr1:161189357:C>T\n",
            "Variant scorer: GeneMaskLFCScorer(requested_output=RNA_SEQ)\n"
          ]
        }
      ],
      "source": [
        "print(f'Interval: {variant_scores.uns[\"interval\"]}')\n",
        "print(f'Variant: {variant_scores.uns[\"variant\"]}')\n",
        "print(f'Variant scorer: {variant_scores.uns[\"variant_scorer\"]}')"
      ]
    },
    {
      "cell_type": "markdown",
      "metadata": {
        "id": "B0WK-6IpkYVu"
      },
      "source": [
        "We recommend interacting with variant scores by flattening `AnnData` objects using `tidy_scores`, which produces a dataframe with each row being a single score for each combination of (variant, gene, scorer, ontology). It optionally excludes stranded tracks which do not match the gene’s strand for gene-specific scorer.\n",
        "\n",
        "The `raw_score` column contains the same values as stored in `variant_scores.X`. The `quantile_score` column is the rank of the `raw_score` in the distribution of scores for a background set of common variants, represented as a quantile probability. This allows for direct comparison across variant scoring strategies that yield scores on different scales. See [FAQs](https://www.alphagenomedocs.com/faqs.html#what-is-the-difference-between-a-quantile-score-and-raw-score) for further details."
      ]
    },
    {
      "cell_type": "code",
      "execution_count": 58,
      "metadata": {
        "colab": {
          "height": 930,
          "base_uri": "https://localhost:8080/"
        },
        "id": "cVG5ApfkkYVu",
        "outputId": "424c2712-a4e8-4568-cc07-347aa3ed7835"
      },
      "outputs": [
        {
          "output_type": "execute_result",
          "data": {
            "text/plain": [
              "              variant_id             scored_interval          gene_id  \\\n",
              "0     chr1:161189357:C>T  chr1:161123821-161254893:.  ENSG00000143222   \n",
              "1     chr1:161189357:C>T  chr1:161123821-161254893:.  ENSG00000143222   \n",
              "2     chr1:161189357:C>T  chr1:161123821-161254893:.  ENSG00000143222   \n",
              "3     chr1:161189357:C>T  chr1:161123821-161254893:.  ENSG00000143222   \n",
              "4     chr1:161189357:C>T  chr1:161123821-161254893:.  ENSG00000143222   \n",
              "...                  ...                         ...              ...   \n",
              "5935  chr1:161189357:C>T  chr1:161123821-161254893:.  ENSG00000290115   \n",
              "5936  chr1:161189357:C>T  chr1:161123821-161254893:.  ENSG00000290115   \n",
              "5937  chr1:161189357:C>T  chr1:161123821-161254893:.  ENSG00000290115   \n",
              "5938  chr1:161189357:C>T  chr1:161123821-161254893:.  ENSG00000290115   \n",
              "5939  chr1:161189357:C>T  chr1:161123821-161254893:.  ENSG00000290115   \n",
              "\n",
              "            gene_name       gene_type gene_strand junction_Start junction_End  \\\n",
              "0                UFC1  protein_coding           +           None         None   \n",
              "1                UFC1  protein_coding           +           None         None   \n",
              "2                UFC1  protein_coding           +           None         None   \n",
              "3                UFC1  protein_coding           +           None         None   \n",
              "4                UFC1  protein_coding           +           None         None   \n",
              "...               ...             ...         ...            ...          ...   \n",
              "5935  ENSG00000290115          lncRNA           -           None         None   \n",
              "5936  ENSG00000290115          lncRNA           -           None         None   \n",
              "5937  ENSG00000290115          lncRNA           -           None         None   \n",
              "5938  ENSG00000290115          lncRNA           -           None         None   \n",
              "5939  ENSG00000290115          lncRNA           -           None         None   \n",
              "\n",
              "     output_type                               variant_scorer  \\\n",
              "0        RNA_SEQ  GeneMaskLFCScorer(requested_output=RNA_SEQ)   \n",
              "1        RNA_SEQ  GeneMaskLFCScorer(requested_output=RNA_SEQ)   \n",
              "2        RNA_SEQ  GeneMaskLFCScorer(requested_output=RNA_SEQ)   \n",
              "3        RNA_SEQ  GeneMaskLFCScorer(requested_output=RNA_SEQ)   \n",
              "4        RNA_SEQ  GeneMaskLFCScorer(requested_output=RNA_SEQ)   \n",
              "...          ...                                          ...   \n",
              "5935     RNA_SEQ  GeneMaskLFCScorer(requested_output=RNA_SEQ)   \n",
              "5936     RNA_SEQ  GeneMaskLFCScorer(requested_output=RNA_SEQ)   \n",
              "5937     RNA_SEQ  GeneMaskLFCScorer(requested_output=RNA_SEQ)   \n",
              "5938     RNA_SEQ  GeneMaskLFCScorer(requested_output=RNA_SEQ)   \n",
              "5939     RNA_SEQ  GeneMaskLFCScorer(requested_output=RNA_SEQ)   \n",
              "\n",
              "                                             track_name track_strand  \\\n",
              "0                         CL:0000047 polyA plus RNA-seq            +   \n",
              "1                              CL:0000062 total RNA-seq            +   \n",
              "2                         CL:0000084 polyA plus RNA-seq            +   \n",
              "3                              CL:0000084 total RNA-seq            +   \n",
              "4                              CL:0000115 total RNA-seq            +   \n",
              "...                                                 ...          ...   \n",
              "5935                  UBERON:0018115 polyA plus RNA-seq            .   \n",
              "5936                  UBERON:0018116 polyA plus RNA-seq            .   \n",
              "5937                  UBERON:0018117 polyA plus RNA-seq            .   \n",
              "5938                  UBERON:0018118 polyA plus RNA-seq            .   \n",
              "5939  UBERON:0036149 gtex Skin_Not_Sun_Exposed_Supra...            .   \n",
              "\n",
              "             Assay title  ontology_curie                   biosample_name  \\\n",
              "0     polyA plus RNA-seq      CL:0000047               neuronal stem cell   \n",
              "1          total RNA-seq      CL:0000062                       osteoblast   \n",
              "2     polyA plus RNA-seq      CL:0000084                           T-cell   \n",
              "3          total RNA-seq      CL:0000084                           T-cell   \n",
              "4          total RNA-seq      CL:0000115                 endothelial cell   \n",
              "...                  ...             ...                              ...   \n",
              "5935  polyA plus RNA-seq  UBERON:0018115                left renal pelvis   \n",
              "5936  polyA plus RNA-seq  UBERON:0018116               right renal pelvis   \n",
              "5937  polyA plus RNA-seq  UBERON:0018117   left renal cortex interstitium   \n",
              "5938  polyA plus RNA-seq  UBERON:0018118  right renal cortex interstitium   \n",
              "5939  polyA plus RNA-seq  UBERON:0036149                  suprapubic skin   \n",
              "\n",
              "                     biosample_type                      gtex_tissue  \\\n",
              "0     in_vitro_differentiated_cells                                    \n",
              "1                      primary_cell                                    \n",
              "2                      primary_cell                                    \n",
              "3                      primary_cell                                    \n",
              "4     in_vitro_differentiated_cells                                    \n",
              "...                             ...                              ...   \n",
              "5935                         tissue                                    \n",
              "5936                         tissue                                    \n",
              "5937                         tissue                                    \n",
              "5938                         tissue                                    \n",
              "5939                         tissue  Skin_Not_Sun_Exposed_Suprapubic   \n",
              "\n",
              "      raw_score  quantile_score  \n",
              "0      0.001612        0.799028  \n",
              "1     -0.000159       -0.421820  \n",
              "2      0.001455        0.710539  \n",
              "3      0.001942        0.786165  \n",
              "4      0.000661        0.584379  \n",
              "...         ...             ...  \n",
              "5935   0.008019        0.994815  \n",
              "5936   0.007396        0.993008  \n",
              "5937   0.006160        0.987586  \n",
              "5938   0.005817        0.982893  \n",
              "5939   0.008183        0.992509  \n",
              "\n",
              "[5940 rows x 19 columns]"
            ],
            "text/html": [
              "\n",
              "  <div id=\"df-88a7cf75-7eed-4fa9-9046-f0d2f822824d\" class=\"colab-df-container\">\n",
              "    <div>\n",
              "<style scoped>\n",
              "    .dataframe tbody tr th:only-of-type {\n",
              "        vertical-align: middle;\n",
              "    }\n",
              "\n",
              "    .dataframe tbody tr th {\n",
              "        vertical-align: top;\n",
              "    }\n",
              "\n",
              "    .dataframe thead th {\n",
              "        text-align: right;\n",
              "    }\n",
              "</style>\n",
              "<table border=\"1\" class=\"dataframe\">\n",
              "  <thead>\n",
              "    <tr style=\"text-align: right;\">\n",
              "      <th></th>\n",
              "      <th>variant_id</th>\n",
              "      <th>scored_interval</th>\n",
              "      <th>gene_id</th>\n",
              "      <th>gene_name</th>\n",
              "      <th>gene_type</th>\n",
              "      <th>gene_strand</th>\n",
              "      <th>junction_Start</th>\n",
              "      <th>junction_End</th>\n",
              "      <th>output_type</th>\n",
              "      <th>variant_scorer</th>\n",
              "      <th>track_name</th>\n",
              "      <th>track_strand</th>\n",
              "      <th>Assay title</th>\n",
              "      <th>ontology_curie</th>\n",
              "      <th>biosample_name</th>\n",
              "      <th>biosample_type</th>\n",
              "      <th>gtex_tissue</th>\n",
              "      <th>raw_score</th>\n",
              "      <th>quantile_score</th>\n",
              "    </tr>\n",
              "  </thead>\n",
              "  <tbody>\n",
              "    <tr>\n",
              "      <th>0</th>\n",
              "      <td>chr1:161189357:C&gt;T</td>\n",
              "      <td>chr1:161123821-161254893:.</td>\n",
              "      <td>ENSG00000143222</td>\n",
              "      <td>UFC1</td>\n",
              "      <td>protein_coding</td>\n",
              "      <td>+</td>\n",
              "      <td>None</td>\n",
              "      <td>None</td>\n",
              "      <td>RNA_SEQ</td>\n",
              "      <td>GeneMaskLFCScorer(requested_output=RNA_SEQ)</td>\n",
              "      <td>CL:0000047 polyA plus RNA-seq</td>\n",
              "      <td>+</td>\n",
              "      <td>polyA plus RNA-seq</td>\n",
              "      <td>CL:0000047</td>\n",
              "      <td>neuronal stem cell</td>\n",
              "      <td>in_vitro_differentiated_cells</td>\n",
              "      <td></td>\n",
              "      <td>0.001612</td>\n",
              "      <td>0.799028</td>\n",
              "    </tr>\n",
              "    <tr>\n",
              "      <th>1</th>\n",
              "      <td>chr1:161189357:C&gt;T</td>\n",
              "      <td>chr1:161123821-161254893:.</td>\n",
              "      <td>ENSG00000143222</td>\n",
              "      <td>UFC1</td>\n",
              "      <td>protein_coding</td>\n",
              "      <td>+</td>\n",
              "      <td>None</td>\n",
              "      <td>None</td>\n",
              "      <td>RNA_SEQ</td>\n",
              "      <td>GeneMaskLFCScorer(requested_output=RNA_SEQ)</td>\n",
              "      <td>CL:0000062 total RNA-seq</td>\n",
              "      <td>+</td>\n",
              "      <td>total RNA-seq</td>\n",
              "      <td>CL:0000062</td>\n",
              "      <td>osteoblast</td>\n",
              "      <td>primary_cell</td>\n",
              "      <td></td>\n",
              "      <td>-0.000159</td>\n",
              "      <td>-0.421820</td>\n",
              "    </tr>\n",
              "    <tr>\n",
              "      <th>2</th>\n",
              "      <td>chr1:161189357:C&gt;T</td>\n",
              "      <td>chr1:161123821-161254893:.</td>\n",
              "      <td>ENSG00000143222</td>\n",
              "      <td>UFC1</td>\n",
              "      <td>protein_coding</td>\n",
              "      <td>+</td>\n",
              "      <td>None</td>\n",
              "      <td>None</td>\n",
              "      <td>RNA_SEQ</td>\n",
              "      <td>GeneMaskLFCScorer(requested_output=RNA_SEQ)</td>\n",
              "      <td>CL:0000084 polyA plus RNA-seq</td>\n",
              "      <td>+</td>\n",
              "      <td>polyA plus RNA-seq</td>\n",
              "      <td>CL:0000084</td>\n",
              "      <td>T-cell</td>\n",
              "      <td>primary_cell</td>\n",
              "      <td></td>\n",
              "      <td>0.001455</td>\n",
              "      <td>0.710539</td>\n",
              "    </tr>\n",
              "    <tr>\n",
              "      <th>3</th>\n",
              "      <td>chr1:161189357:C&gt;T</td>\n",
              "      <td>chr1:161123821-161254893:.</td>\n",
              "      <td>ENSG00000143222</td>\n",
              "      <td>UFC1</td>\n",
              "      <td>protein_coding</td>\n",
              "      <td>+</td>\n",
              "      <td>None</td>\n",
              "      <td>None</td>\n",
              "      <td>RNA_SEQ</td>\n",
              "      <td>GeneMaskLFCScorer(requested_output=RNA_SEQ)</td>\n",
              "      <td>CL:0000084 total RNA-seq</td>\n",
              "      <td>+</td>\n",
              "      <td>total RNA-seq</td>\n",
              "      <td>CL:0000084</td>\n",
              "      <td>T-cell</td>\n",
              "      <td>primary_cell</td>\n",
              "      <td></td>\n",
              "      <td>0.001942</td>\n",
              "      <td>0.786165</td>\n",
              "    </tr>\n",
              "    <tr>\n",
              "      <th>4</th>\n",
              "      <td>chr1:161189357:C&gt;T</td>\n",
              "      <td>chr1:161123821-161254893:.</td>\n",
              "      <td>ENSG00000143222</td>\n",
              "      <td>UFC1</td>\n",
              "      <td>protein_coding</td>\n",
              "      <td>+</td>\n",
              "      <td>None</td>\n",
              "      <td>None</td>\n",
              "      <td>RNA_SEQ</td>\n",
              "      <td>GeneMaskLFCScorer(requested_output=RNA_SEQ)</td>\n",
              "      <td>CL:0000115 total RNA-seq</td>\n",
              "      <td>+</td>\n",
              "      <td>total RNA-seq</td>\n",
              "      <td>CL:0000115</td>\n",
              "      <td>endothelial cell</td>\n",
              "      <td>in_vitro_differentiated_cells</td>\n",
              "      <td></td>\n",
              "      <td>0.000661</td>\n",
              "      <td>0.584379</td>\n",
              "    </tr>\n",
              "    <tr>\n",
              "      <th>...</th>\n",
              "      <td>...</td>\n",
              "      <td>...</td>\n",
              "      <td>...</td>\n",
              "      <td>...</td>\n",
              "      <td>...</td>\n",
              "      <td>...</td>\n",
              "      <td>...</td>\n",
              "      <td>...</td>\n",
              "      <td>...</td>\n",
              "      <td>...</td>\n",
              "      <td>...</td>\n",
              "      <td>...</td>\n",
              "      <td>...</td>\n",
              "      <td>...</td>\n",
              "      <td>...</td>\n",
              "      <td>...</td>\n",
              "      <td>...</td>\n",
              "      <td>...</td>\n",
              "      <td>...</td>\n",
              "    </tr>\n",
              "    <tr>\n",
              "      <th>5935</th>\n",
              "      <td>chr1:161189357:C&gt;T</td>\n",
              "      <td>chr1:161123821-161254893:.</td>\n",
              "      <td>ENSG00000290115</td>\n",
              "      <td>ENSG00000290115</td>\n",
              "      <td>lncRNA</td>\n",
              "      <td>-</td>\n",
              "      <td>None</td>\n",
              "      <td>None</td>\n",
              "      <td>RNA_SEQ</td>\n",
              "      <td>GeneMaskLFCScorer(requested_output=RNA_SEQ)</td>\n",
              "      <td>UBERON:0018115 polyA plus RNA-seq</td>\n",
              "      <td>.</td>\n",
              "      <td>polyA plus RNA-seq</td>\n",
              "      <td>UBERON:0018115</td>\n",
              "      <td>left renal pelvis</td>\n",
              "      <td>tissue</td>\n",
              "      <td></td>\n",
              "      <td>0.008019</td>\n",
              "      <td>0.994815</td>\n",
              "    </tr>\n",
              "    <tr>\n",
              "      <th>5936</th>\n",
              "      <td>chr1:161189357:C&gt;T</td>\n",
              "      <td>chr1:161123821-161254893:.</td>\n",
              "      <td>ENSG00000290115</td>\n",
              "      <td>ENSG00000290115</td>\n",
              "      <td>lncRNA</td>\n",
              "      <td>-</td>\n",
              "      <td>None</td>\n",
              "      <td>None</td>\n",
              "      <td>RNA_SEQ</td>\n",
              "      <td>GeneMaskLFCScorer(requested_output=RNA_SEQ)</td>\n",
              "      <td>UBERON:0018116 polyA plus RNA-seq</td>\n",
              "      <td>.</td>\n",
              "      <td>polyA plus RNA-seq</td>\n",
              "      <td>UBERON:0018116</td>\n",
              "      <td>right renal pelvis</td>\n",
              "      <td>tissue</td>\n",
              "      <td></td>\n",
              "      <td>0.007396</td>\n",
              "      <td>0.993008</td>\n",
              "    </tr>\n",
              "    <tr>\n",
              "      <th>5937</th>\n",
              "      <td>chr1:161189357:C&gt;T</td>\n",
              "      <td>chr1:161123821-161254893:.</td>\n",
              "      <td>ENSG00000290115</td>\n",
              "      <td>ENSG00000290115</td>\n",
              "      <td>lncRNA</td>\n",
              "      <td>-</td>\n",
              "      <td>None</td>\n",
              "      <td>None</td>\n",
              "      <td>RNA_SEQ</td>\n",
              "      <td>GeneMaskLFCScorer(requested_output=RNA_SEQ)</td>\n",
              "      <td>UBERON:0018117 polyA plus RNA-seq</td>\n",
              "      <td>.</td>\n",
              "      <td>polyA plus RNA-seq</td>\n",
              "      <td>UBERON:0018117</td>\n",
              "      <td>left renal cortex interstitium</td>\n",
              "      <td>tissue</td>\n",
              "      <td></td>\n",
              "      <td>0.006160</td>\n",
              "      <td>0.987586</td>\n",
              "    </tr>\n",
              "    <tr>\n",
              "      <th>5938</th>\n",
              "      <td>chr1:161189357:C&gt;T</td>\n",
              "      <td>chr1:161123821-161254893:.</td>\n",
              "      <td>ENSG00000290115</td>\n",
              "      <td>ENSG00000290115</td>\n",
              "      <td>lncRNA</td>\n",
              "      <td>-</td>\n",
              "      <td>None</td>\n",
              "      <td>None</td>\n",
              "      <td>RNA_SEQ</td>\n",
              "      <td>GeneMaskLFCScorer(requested_output=RNA_SEQ)</td>\n",
              "      <td>UBERON:0018118 polyA plus RNA-seq</td>\n",
              "      <td>.</td>\n",
              "      <td>polyA plus RNA-seq</td>\n",
              "      <td>UBERON:0018118</td>\n",
              "      <td>right renal cortex interstitium</td>\n",
              "      <td>tissue</td>\n",
              "      <td></td>\n",
              "      <td>0.005817</td>\n",
              "      <td>0.982893</td>\n",
              "    </tr>\n",
              "    <tr>\n",
              "      <th>5939</th>\n",
              "      <td>chr1:161189357:C&gt;T</td>\n",
              "      <td>chr1:161123821-161254893:.</td>\n",
              "      <td>ENSG00000290115</td>\n",
              "      <td>ENSG00000290115</td>\n",
              "      <td>lncRNA</td>\n",
              "      <td>-</td>\n",
              "      <td>None</td>\n",
              "      <td>None</td>\n",
              "      <td>RNA_SEQ</td>\n",
              "      <td>GeneMaskLFCScorer(requested_output=RNA_SEQ)</td>\n",
              "      <td>UBERON:0036149 gtex Skin_Not_Sun_Exposed_Supra...</td>\n",
              "      <td>.</td>\n",
              "      <td>polyA plus RNA-seq</td>\n",
              "      <td>UBERON:0036149</td>\n",
              "      <td>suprapubic skin</td>\n",
              "      <td>tissue</td>\n",
              "      <td>Skin_Not_Sun_Exposed_Suprapubic</td>\n",
              "      <td>0.008183</td>\n",
              "      <td>0.992509</td>\n",
              "    </tr>\n",
              "  </tbody>\n",
              "</table>\n",
              "<p>5940 rows × 19 columns</p>\n",
              "</div>\n",
              "    <div class=\"colab-df-buttons\">\n",
              "\n",
              "  <div class=\"colab-df-container\">\n",
              "    <button class=\"colab-df-convert\" onclick=\"convertToInteractive('df-88a7cf75-7eed-4fa9-9046-f0d2f822824d')\"\n",
              "            title=\"Convert this dataframe to an interactive table.\"\n",
              "            style=\"display:none;\">\n",
              "\n",
              "  <svg xmlns=\"http://www.w3.org/2000/svg\" height=\"24px\" viewBox=\"0 -960 960 960\">\n",
              "    <path d=\"M120-120v-720h720v720H120Zm60-500h600v-160H180v160Zm220 220h160v-160H400v160Zm0 220h160v-160H400v160ZM180-400h160v-160H180v160Zm440 0h160v-160H620v160ZM180-180h160v-160H180v160Zm440 0h160v-160H620v160Z\"/>\n",
              "  </svg>\n",
              "    </button>\n",
              "\n",
              "  <style>\n",
              "    .colab-df-container {\n",
              "      display:flex;\n",
              "      gap: 12px;\n",
              "    }\n",
              "\n",
              "    .colab-df-convert {\n",
              "      background-color: #E8F0FE;\n",
              "      border: none;\n",
              "      border-radius: 50%;\n",
              "      cursor: pointer;\n",
              "      display: none;\n",
              "      fill: #1967D2;\n",
              "      height: 32px;\n",
              "      padding: 0 0 0 0;\n",
              "      width: 32px;\n",
              "    }\n",
              "\n",
              "    .colab-df-convert:hover {\n",
              "      background-color: #E2EBFA;\n",
              "      box-shadow: 0px 1px 2px rgba(60, 64, 67, 0.3), 0px 1px 3px 1px rgba(60, 64, 67, 0.15);\n",
              "      fill: #174EA6;\n",
              "    }\n",
              "\n",
              "    .colab-df-buttons div {\n",
              "      margin-bottom: 4px;\n",
              "    }\n",
              "\n",
              "    [theme=dark] .colab-df-convert {\n",
              "      background-color: #3B4455;\n",
              "      fill: #D2E3FC;\n",
              "    }\n",
              "\n",
              "    [theme=dark] .colab-df-convert:hover {\n",
              "      background-color: #434B5C;\n",
              "      box-shadow: 0px 1px 3px 1px rgba(0, 0, 0, 0.15);\n",
              "      filter: drop-shadow(0px 1px 2px rgba(0, 0, 0, 0.3));\n",
              "      fill: #FFFFFF;\n",
              "    }\n",
              "  </style>\n",
              "\n",
              "    <script>\n",
              "      const buttonEl =\n",
              "        document.querySelector('#df-88a7cf75-7eed-4fa9-9046-f0d2f822824d button.colab-df-convert');\n",
              "      buttonEl.style.display =\n",
              "        google.colab.kernel.accessAllowed ? 'block' : 'none';\n",
              "\n",
              "      async function convertToInteractive(key) {\n",
              "        const element = document.querySelector('#df-88a7cf75-7eed-4fa9-9046-f0d2f822824d');\n",
              "        const dataTable =\n",
              "          await google.colab.kernel.invokeFunction('convertToInteractive',\n",
              "                                                    [key], {});\n",
              "        if (!dataTable) return;\n",
              "\n",
              "        const docLinkHtml = 'Like what you see? Visit the ' +\n",
              "          '<a target=\"_blank\" href=https://colab.research.google.com/notebooks/data_table.ipynb>data table notebook</a>'\n",
              "          + ' to learn more about interactive tables.';\n",
              "        element.innerHTML = '';\n",
              "        dataTable['output_type'] = 'display_data';\n",
              "        await google.colab.output.renderOutput(dataTable, element);\n",
              "        const docLink = document.createElement('div');\n",
              "        docLink.innerHTML = docLinkHtml;\n",
              "        element.appendChild(docLink);\n",
              "      }\n",
              "    </script>\n",
              "  </div>\n",
              "\n",
              "\n",
              "    <div id=\"df-f04ca888-fd96-4f4d-b6e0-d2a92c47d71d\">\n",
              "      <button class=\"colab-df-quickchart\" onclick=\"quickchart('df-f04ca888-fd96-4f4d-b6e0-d2a92c47d71d')\"\n",
              "                title=\"Suggest charts\"\n",
              "                style=\"display:none;\">\n",
              "\n",
              "<svg xmlns=\"http://www.w3.org/2000/svg\" height=\"24px\"viewBox=\"0 0 24 24\"\n",
              "     width=\"24px\">\n",
              "    <g>\n",
              "        <path d=\"M19 3H5c-1.1 0-2 .9-2 2v14c0 1.1.9 2 2 2h14c1.1 0 2-.9 2-2V5c0-1.1-.9-2-2-2zM9 17H7v-7h2v7zm4 0h-2V7h2v10zm4 0h-2v-4h2v4z\"/>\n",
              "    </g>\n",
              "</svg>\n",
              "      </button>\n",
              "\n",
              "<style>\n",
              "  .colab-df-quickchart {\n",
              "      --bg-color: #E8F0FE;\n",
              "      --fill-color: #1967D2;\n",
              "      --hover-bg-color: #E2EBFA;\n",
              "      --hover-fill-color: #174EA6;\n",
              "      --disabled-fill-color: #AAA;\n",
              "      --disabled-bg-color: #DDD;\n",
              "  }\n",
              "\n",
              "  [theme=dark] .colab-df-quickchart {\n",
              "      --bg-color: #3B4455;\n",
              "      --fill-color: #D2E3FC;\n",
              "      --hover-bg-color: #434B5C;\n",
              "      --hover-fill-color: #FFFFFF;\n",
              "      --disabled-bg-color: #3B4455;\n",
              "      --disabled-fill-color: #666;\n",
              "  }\n",
              "\n",
              "  .colab-df-quickchart {\n",
              "    background-color: var(--bg-color);\n",
              "    border: none;\n",
              "    border-radius: 50%;\n",
              "    cursor: pointer;\n",
              "    display: none;\n",
              "    fill: var(--fill-color);\n",
              "    height: 32px;\n",
              "    padding: 0;\n",
              "    width: 32px;\n",
              "  }\n",
              "\n",
              "  .colab-df-quickchart:hover {\n",
              "    background-color: var(--hover-bg-color);\n",
              "    box-shadow: 0 1px 2px rgba(60, 64, 67, 0.3), 0 1px 3px 1px rgba(60, 64, 67, 0.15);\n",
              "    fill: var(--button-hover-fill-color);\n",
              "  }\n",
              "\n",
              "  .colab-df-quickchart-complete:disabled,\n",
              "  .colab-df-quickchart-complete:disabled:hover {\n",
              "    background-color: var(--disabled-bg-color);\n",
              "    fill: var(--disabled-fill-color);\n",
              "    box-shadow: none;\n",
              "  }\n",
              "\n",
              "  .colab-df-spinner {\n",
              "    border: 2px solid var(--fill-color);\n",
              "    border-color: transparent;\n",
              "    border-bottom-color: var(--fill-color);\n",
              "    animation:\n",
              "      spin 1s steps(1) infinite;\n",
              "  }\n",
              "\n",
              "  @keyframes spin {\n",
              "    0% {\n",
              "      border-color: transparent;\n",
              "      border-bottom-color: var(--fill-color);\n",
              "      border-left-color: var(--fill-color);\n",
              "    }\n",
              "    20% {\n",
              "      border-color: transparent;\n",
              "      border-left-color: var(--fill-color);\n",
              "      border-top-color: var(--fill-color);\n",
              "    }\n",
              "    30% {\n",
              "      border-color: transparent;\n",
              "      border-left-color: var(--fill-color);\n",
              "      border-top-color: var(--fill-color);\n",
              "      border-right-color: var(--fill-color);\n",
              "    }\n",
              "    40% {\n",
              "      border-color: transparent;\n",
              "      border-right-color: var(--fill-color);\n",
              "      border-top-color: var(--fill-color);\n",
              "    }\n",
              "    60% {\n",
              "      border-color: transparent;\n",
              "      border-right-color: var(--fill-color);\n",
              "    }\n",
              "    80% {\n",
              "      border-color: transparent;\n",
              "      border-right-color: var(--fill-color);\n",
              "      border-bottom-color: var(--fill-color);\n",
              "    }\n",
              "    90% {\n",
              "      border-color: transparent;\n",
              "      border-bottom-color: var(--fill-color);\n",
              "    }\n",
              "  }\n",
              "</style>\n",
              "\n",
              "      <script>\n",
              "        async function quickchart(key) {\n",
              "          const quickchartButtonEl =\n",
              "            document.querySelector('#' + key + ' button');\n",
              "          quickchartButtonEl.disabled = true;  // To prevent multiple clicks.\n",
              "          quickchartButtonEl.classList.add('colab-df-spinner');\n",
              "          try {\n",
              "            const charts = await google.colab.kernel.invokeFunction(\n",
              "                'suggestCharts', [key], {});\n",
              "          } catch (error) {\n",
              "            console.error('Error during call to suggestCharts:', error);\n",
              "          }\n",
              "          quickchartButtonEl.classList.remove('colab-df-spinner');\n",
              "          quickchartButtonEl.classList.add('colab-df-quickchart-complete');\n",
              "        }\n",
              "        (() => {\n",
              "          let quickchartButtonEl =\n",
              "            document.querySelector('#df-f04ca888-fd96-4f4d-b6e0-d2a92c47d71d button');\n",
              "          quickchartButtonEl.style.display =\n",
              "            google.colab.kernel.accessAllowed ? 'block' : 'none';\n",
              "        })();\n",
              "      </script>\n",
              "    </div>\n",
              "\n",
              "    </div>\n",
              "  </div>\n"
            ],
            "application/vnd.google.colaboratory.intrinsic+json": {
              "type": "dataframe",
              "repr_error": "Out of range float values are not JSON compliant: nan"
            }
          },
          "metadata": {},
          "execution_count": 58
        }
      ],
      "source": [
        "\n",
        "variant_scorers.tidy_scores([variant_scores], match_gene_strand=True)"
      ]
    },
    {
      "cell_type": "markdown",
      "metadata": {
        "id": "055sHwjykYVu"
      },
      "source": [
        "## Highlighting important regions with *in silico* mutagenesis\n",
        "\n",
        "To highlight which regions in a DNA sequence are functionally important for a final variant prediction, we can perform an **in silico mutagenesis** (ISM) analysis by scoring all possible single nucleotide variants in a specific interval.\n",
        "\n",
        "Here is a visual overview of this process:\n",
        "\n",
        "<a href=\"https://services.google.com/fh/files/misc/ism_green_v2.png\"><img src=\"https://services.google.com/fh/files/misc/ism_green_v2.png\" alt=\"ISM\" border=\"0\" height=500></a>\n"
      ]
    },
    {
      "cell_type": "markdown",
      "metadata": {
        "id": "O93kx8lckYVu"
      },
      "source": [
        "\n",
        "\n",
        "We define an `ism_interval`, which is a relatively small region of DNA that we want to systematically mutate. We also define the `sequence_interval`, which is the contextual interval the model will use when making predictions for each variant.\n"
      ]
    },
    {
      "cell_type": "code",
      "execution_count": null,
      "metadata": {
        "id": "9Xhk_TsHkYVu"
      },
      "outputs": [],
      "source": [
        "# 2KB DNA sequence to use as context when making predictions.\n",
        "sequence_interval = genome.Interval('chr20', 3_753_000, 3_753_400)\n",
        "sequence_interval = sequence_interval.resize(dna_client.SEQUENCE_LENGTH_2KB)\n",
        "\n",
        "# Mutate all bases in the central 256-base region of the sequence_interval.\n",
        "ism_interval = sequence_interval.resize(256)"
      ]
    },
    {
      "cell_type": "markdown",
      "metadata": {
        "id": "d9LSDA0QkYVu"
      },
      "source": [
        "Next, we define the scorer we want to use to score each of the ISM variants. Here, we use a center mask scorer on predicted `DNASE` values, which will score each variant's effect on DNA accessibility in the 500bp vicinity. See the [variant scoring documentation](https://www.alphagenomedocs.com/variant_scoring.html) for more information on variant scoring."
      ]
    },
    {
      "cell_type": "code",
      "execution_count": null,
      "metadata": {
        "id": "twYn3L9qkYVu"
      },
      "outputs": [],
      "source": [
        "dnase_variant_scorer = variant_scorers.CenterMaskScorer(\n",
        "    requested_output=dna_client.OutputType.DNASE,\n",
        "    width=501,\n",
        "    aggregation_type=variant_scorers.AggregationType.DIFF_MEAN,\n",
        ")"
      ]
    },
    {
      "cell_type": "markdown",
      "metadata": {
        "id": "UbQxCvutkYVu"
      },
      "source": [
        "Finally, we can use `score_variants` (notice the plural s) to score all variants.\n",
        "\n",
        "Note that this operation is quite expensive. For speed reasons, we recommend using shorter input sequences for the contextual `sequence_interval` and narrower `ism_interval` regions to mutate if possible.\n"
      ]
    },
    {
      "cell_type": "code",
      "execution_count": null,
      "metadata": {
        "colab": {
          "height": 49,
          "referenced_widgets": [
            "f498e553954c4f3abcb765b7d6d139a3",
            "2c5b1e877d234eb9a91fb7bc66ecdaaa",
            "1fb9b0087c7448d4a7e1d2f1848dcfa8",
            "1904dd6a03324a908a3607aaa0f1e90c",
            "b4a6bc24513548c9a1d25afa113fe779",
            "16901cf43ce54c94a63c3bdaceb103fe",
            "8e5bd3a0a8f4483c818586a8b42b3543",
            "dde2bae36b724b85b067e619459f454e",
            "589d793508b34bb1b6430b9f6e5ff989",
            "8a0a6684b29c4fe3992320e7de6bf8d3",
            "bd84c93fcf7f4d7aa56dc92bf076965d"
          ]
        },
        "id": "WMuA2NQXkYVu",
        "outputId": "caef670f-6618-48b8-93bf-16d243e9a959"
      },
      "outputs": [
        {
          "data": {
            "application/vnd.jupyter.widget-view+json": {
              "model_id": "f498e553954c4f3abcb765b7d6d139a3",
              "version_major": 2,
              "version_minor": 0
            },
            "text/plain": [
              "  0%|          | 0/26 [00:00<?, ?it/s]"
            ]
          },
          "metadata": {},
          "output_type": "display_data"
        }
      ],
      "source": [
        "variant_scores = dna_model.score_ism_variants(\n",
        "    interval=sequence_interval,\n",
        "    ism_interval=ism_interval,\n",
        "    variant_scorers=[dnase_variant_scorer],\n",
        ")"
      ]
    },
    {
      "cell_type": "markdown",
      "metadata": {
        "id": "r3iJ9E-ckYVu"
      },
      "source": [
        "The length of the returned `variant_scores` is 768, since we scored 768 variants (256 positions * 3 alternative bases per position):"
      ]
    },
    {
      "cell_type": "code",
      "execution_count": null,
      "metadata": {
        "id": "NrRgRYF1kYVu",
        "outputId": "7babc03c-87f1-4d4f-a062-c6e715706cc5"
      },
      "outputs": [
        {
          "data": {
            "text/plain": [
              "768"
            ]
          },
          "execution_count": 76,
          "metadata": {},
          "output_type": "execute_result"
        }
      ],
      "source": [
        "len(variant_scores)"
      ]
    },
    {
      "cell_type": "markdown",
      "metadata": {
        "id": "_e2WoG6pkYVu"
      },
      "source": [
        "Each variant has scores of shape `(1, 305)`, reflecting the fact that we are not using a gene-centric scorer and that there are 305 `DNASE` tracks:"
      ]
    },
    {
      "cell_type": "code",
      "execution_count": null,
      "metadata": {
        "id": "f-raKWmbkYVu",
        "outputId": "229de7c0-9d10-403b-9b71-09a769e616a8"
      },
      "outputs": [
        {
          "data": {
            "text/plain": [
              "(1, 305)"
            ]
          },
          "execution_count": 77,
          "metadata": {},
          "output_type": "execute_result"
        }
      ],
      "source": [
        "# Index into first variant and first scorer.\n",
        "variant_scores[0][0].X.shape"
      ]
    },
    {
      "cell_type": "markdown",
      "metadata": {
        "id": "nyDoTBdAkYVu"
      },
      "source": [
        "To understand which positions are most influential in the predictions, we can visualize these scores using a sequence logo. This requires summarizing the scores into a single scalar value per variant.\n",
        "\n",
        "As an example, let's extract the DNASE score for just the K562 cell line, a widely used experimental model. Alternatively, you could average across multiple tissues to obtain a single scalar value."
      ]
    },
    {
      "cell_type": "code",
      "execution_count": null,
      "metadata": {
        "id": "jK9UF4PZkYVu"
      },
      "outputs": [],
      "source": [
        "def extract_k562(adata):\n",
        "  values = adata.X[:, adata.var['ontology_curie'] == 'EFO:0002067']\n",
        "  assert values.size == 1\n",
        "  return values.flatten()[0]\n",
        "\n",
        "\n",
        "ism_result = ism.ism_matrix(\n",
        "    [extract_k562(x[0]) for x in variant_scores],\n",
        "    variants=[v[0].uns['variant'] for v in variant_scores],\n",
        ")"
      ]
    },
    {
      "cell_type": "markdown",
      "metadata": {
        "id": "UYtOmG4xkYVu"
      },
      "source": [
        "The shape of `ism_result` is `(256, 4`) since we have 1 score per position per each of the 4 DNA bases.\n",
        "\n",
        "Note that in this case, our call to `ism.ism_matrix()` had the argument `multiply_by_sequence` set to 'True', so the output array contains non-zero values only for the bases corresponding to the reference sequence.\n"
      ]
    },
    {
      "cell_type": "code",
      "execution_count": null,
      "metadata": {
        "id": "ONduc-kwkYVv",
        "outputId": "041e64bb-7281-4ede-d81e-fbd610a81f44"
      },
      "outputs": [
        {
          "data": {
            "text/plain": [
              "(256, 4)"
            ]
          },
          "execution_count": 79,
          "metadata": {},
          "output_type": "execute_result"
        }
      ],
      "source": [
        "ism_result.shape"
      ]
    },
    {
      "cell_type": "markdown",
      "metadata": {
        "id": "Wj0VMFwCkYVv"
      },
      "source": [
        "Finally, we plot the contribution scores as a sequence logo:"
      ]
    },
    {
      "cell_type": "code",
      "execution_count": null,
      "metadata": {
        "id": "0X9fwKw6kYVv",
        "outputId": "dd42944f-0ae2-4ec6-9b6b-bbcbefb61ee0"
      },
      "outputs": [
        {
          "data": {
            "image/png": "[encoded data removed]",
            "text/plain": [
              "<Figure size 2520x72 with 1 Axes>"
            ]
          },
          "metadata": {
            "image/png": {
              "height": 98,
              "width": 2084
            },
            "needs_background": "light"
          },
          "output_type": "display_data"
        }
      ],
      "source": [
        "plot_components.plot(\n",
        "    [\n",
        "        plot_components.SeqLogo(\n",
        "            scores=ism_result,\n",
        "            scores_interval=ism_interval,\n",
        "            ylabel='ISM K562 DNase',\n",
        "        )\n",
        "    ],\n",
        "    interval=ism_interval,\n",
        "    fig_width=35,\n",
        ")\n",
        "\n",
        "plt.show()"
      ]
    },
    {
      "cell_type": "markdown",
      "metadata": {
        "id": "Qkuuj1p7kYVv"
      },
      "source": [
        "This plot shows that the sequence between positions ~225 to ~240 has the strongest effect on predicted nearby DNAse in K562 cells.\n",
        "\n",
        "These contribution scores can be used to systematically discover motifs important for different modalities and cell types, find the transcription factors binding those motifs and map motif instances across the genome. Here are a few tools you can use to do this:\n",
        "- [tfmodisco-lite](https://github.com/jmschrei/tfmodisco-lite/)\n",
        "- [tangermeme](https://github.com/jmschrei/tangermeme)\n",
        "- [tomtom](https://meme-suite.org/meme/tools/tomtom)"
      ]
    },
    {
      "cell_type": "markdown",
      "metadata": {
        "id": "j6Vum-X6ILaz"
      },
      "source": [
        "## Making mouse predictions"
      ]
    },
    {
      "cell_type": "markdown",
      "metadata": {
        "id": "r-E-kEitg6ru"
      },
      "source": [
        "So far, this notebook has focused on predictions for human (`Organism.HOMO_SAPIENS`). To generate predictions for mouse, specify the organism as `Organism.MUS_MUSCULUS` instead. Please note that the supported ontology terms differ between species.\n",
        "\n",
        "The following example demonstrates how to call `predict_sequence` for mouse predictions:"
      ]
    },
    {
      "cell_type": "code",
      "execution_count": null,
      "metadata": {
        "id": "QjFVRG1QLVba",
        "language": "python"
      },
      "outputs": [],
      "source": [
        "output = dna_model.predict_sequence(\n",
        "    sequence='GATTACA'.center(2048, 'N'),  # Pad to valid sequence length.\n",
        "    organism=dna_client.Organism.MUS_MUSCULUS,\n",
        "    requested_outputs=[dna_client.OutputType.DNASE],\n",
        "    ontology_terms=['UBERON:0002048'],  # Lung.\n",
        ")"
      ]
    },
    {
      "cell_type": "markdown",
      "metadata": {
        "id": "WwpupBP1hPgh"
      },
      "source": [
        "And here is an example of calling `predict_interval` for a mouse genomic interval:"
      ]
    },
    {
      "cell_type": "code",
      "execution_count": null,
      "metadata": {
        "id": "lKOIZAtMLrEu",
        "outputId": "4b1fa86c-1099-4752-91fc-272c8c9e8c51"
      },
      "outputs": [
        {
          "data": {
            "text/plain": [
              "(1048576, 3)"
            ]
          },
          "execution_count": 82,
          "metadata": {},
          "output_type": "execute_result"
        }
      ],
      "source": [
        "interval = genome.Interval('chr1', 3_000_000, 3_000_001).resize(\n",
        "    dna_client.SEQUENCE_LENGTH_1MB\n",
        ")\n",
        "\n",
        "output = dna_model.predict_interval(\n",
        "    interval=interval,\n",
        "    organism=dna_client.Organism.MUS_MUSCULUS,\n",
        "    requested_outputs=[dna_client.OutputType.RNA_SEQ],\n",
        "    ontology_terms=['UBERON:0002048'],  # Lung.\n",
        ")\n",
        "\n",
        "output.rna_seq.values.shape"
      ]
    },
    {
      "cell_type": "markdown",
      "metadata": {
        "id": "-1isDYNjkYVv"
      },
      "source": [
        "## Conclusion\n",
        "\n",
        "That's it for the quick start guide. To dive in further, check out our [other tutorials](https://www.alphagenomedocs.com/tutorials/index.html).\n"
      ]
    }
  ],
  "metadata": {
    "colab": {
      "provenance": [],
      "toc_visible": true
    },
    "kernelspec": {
      "display_name": "Python 3",
      "name": "python3"
    },
    "language_info": {
      "name": "python"
    },
    "widgets": {
      "application/vnd.jupyter.widget-state+json": {
        "16901cf43ce54c94a63c3bdaceb103fe": {
          "model_module": "@jupyter-widgets/base",
          "model_module_version": "1.2.0",
          "model_name": "LayoutModel",
          "state": {
            "_model_module": "@jupyter-widgets/base",
            "_model_module_version": "1.2.0",
            "_model_name": "LayoutModel",
            "_view_count": null,
            "_view_module": "@jupyter-widgets/base",
            "_view_module_version": "1.2.0",
            "_view_name": "LayoutView",
            "align_content": null,
            "align_items": null,
            "align_self": null,
            "border": null,
            "bottom": null,
            "display": null,
            "flex": null,
            "flex_flow": null,
            "grid_area": null,
            "grid_auto_columns": null,
            "grid_auto_flow": null,
            "grid_auto_rows": null,
            "grid_column": null,
            "grid_gap": null,
            "grid_row": null,
            "grid_template_areas": null,
            "grid_template_columns": null,
            "grid_template_rows": null,
            "height": null,
            "justify_content": null,
            "justify_items": null,
            "left": null,
            "margin": null,
            "max_height": null,
            "max_width": null,
            "min_height": null,
            "min_width": null,
            "object_fit": null,
            "object_position": null,
            "order": null,
            "overflow": null,
            "overflow_x": null,
            "overflow_y": null,
            "padding": null,
            "right": null,
            "top": null,
            "visibility": null,
            "width": null
          }
        },
        "1904dd6a03324a908a3607aaa0f1e90c": {
          "model_module": "@jupyter-widgets/controls",
          "model_module_version": "1.5.0",
          "model_name": "HTMLModel",
          "state": {
            "_dom_classes": [],
            "_model_module": "@jupyter-widgets/controls",
            "_model_module_version": "1.5.0",
            "_model_name": "HTMLModel",
            "_view_count": null,
            "_view_module": "@jupyter-widgets/controls",
            "_view_module_version": "1.5.0",
            "_view_name": "HTMLView",
            "description": "",
            "description_tooltip": null,
            "layout": "IPY_MODEL_8a0a6684b29c4fe3992320e7de6bf8d3",
            "placeholder": "​",
            "style": "IPY_MODEL_bd84c93fcf7f4d7aa56dc92bf076965d",
            "value": " 26/26 [00:14&lt;00:00,  2.46it/s]"
          }
        },
        "1fb9b0087c7448d4a7e1d2f1848dcfa8": {
          "model_module": "@jupyter-widgets/controls",
          "model_module_version": "1.5.0",
          "model_name": "FloatProgressModel",
          "state": {
            "_dom_classes": [],
            "_model_module": "@jupyter-widgets/controls",
            "_model_module_version": "1.5.0",
            "_model_name": "FloatProgressModel",
            "_view_count": null,
            "_view_module": "@jupyter-widgets/controls",
            "_view_module_version": "1.5.0",
            "_view_name": "ProgressView",
            "bar_style": "success",
            "description": "",
            "description_tooltip": null,
            "layout": "IPY_MODEL_dde2bae36b724b85b067e619459f454e",
            "max": 26,
            "min": 0,
            "orientation": "horizontal",
            "style": "IPY_MODEL_589d793508b34bb1b6430b9f6e5ff989",
            "value": 26
          }
        },
        "2c5b1e877d234eb9a91fb7bc66ecdaaa": {
          "model_module": "@jupyter-widgets/controls",
          "model_module_version": "1.5.0",
          "model_name": "HTMLModel",
          "state": {
            "_dom_classes": [],
            "_model_module": "@jupyter-widgets/controls",
            "_model_module_version": "1.5.0",
            "_model_name": "HTMLModel",
            "_view_count": null,
            "_view_module": "@jupyter-widgets/controls",
            "_view_module_version": "1.5.0",
            "_view_name": "HTMLView",
            "description": "",
            "description_tooltip": null,
            "layout": "IPY_MODEL_16901cf43ce54c94a63c3bdaceb103fe",
            "placeholder": "​",
            "style": "IPY_MODEL_8e5bd3a0a8f4483c818586a8b42b3543",
            "value": "100%"
          }
        },
        "589d793508b34bb1b6430b9f6e5ff989": {
          "model_module": "@jupyter-widgets/controls",
          "model_module_version": "1.5.0",
          "model_name": "ProgressStyleModel",
          "state": {
            "_model_module": "@jupyter-widgets/controls",
            "_model_module_version": "1.5.0",
            "_model_name": "ProgressStyleModel",
            "_view_count": null,
            "_view_module": "@jupyter-widgets/base",
            "_view_module_version": "1.2.0",
            "_view_name": "StyleView",
            "bar_color": null,
            "description_width": ""
          }
        },
        "8a0a6684b29c4fe3992320e7de6bf8d3": {
          "model_module": "@jupyter-widgets/base",
          "model_module_version": "1.2.0",
          "model_name": "LayoutModel",
          "state": {
            "_model_module": "@jupyter-widgets/base",
            "_model_module_version": "1.2.0",
            "_model_name": "LayoutModel",
            "_view_count": null,
            "_view_module": "@jupyter-widgets/base",
            "_view_module_version": "1.2.0",
            "_view_name": "LayoutView",
            "align_content": null,
            "align_items": null,
            "align_self": null,
            "border": null,
            "bottom": null,
            "display": null,
            "flex": null,
            "flex_flow": null,
            "grid_area": null,
            "grid_auto_columns": null,
            "grid_auto_flow": null,
            "grid_auto_rows": null,
            "grid_column": null,
            "grid_gap": null,
            "grid_row": null,
            "grid_template_areas": null,
            "grid_template_columns": null,
            "grid_template_rows": null,
            "height": null,
            "justify_content": null,
            "justify_items": null,
            "left": null,
            "margin": null,
            "max_height": null,
            "max_width": null,
            "min_height": null,
            "min_width": null,
            "object_fit": null,
            "object_position": null,
            "order": null,
            "overflow": null,
            "overflow_x": null,
            "overflow_y": null,
            "padding": null,
            "right": null,
            "top": null,
            "visibility": null,
            "width": null
          }
        },
        "8e5bd3a0a8f4483c818586a8b42b3543": {
          "model_module": "@jupyter-widgets/controls",
          "model_module_version": "1.5.0",
          "model_name": "DescriptionStyleModel",
          "state": {
            "_model_module": "@jupyter-widgets/controls",
            "_model_module_version": "1.5.0",
            "_model_name": "DescriptionStyleModel",
            "_view_count": null,
            "_view_module": "@jupyter-widgets/base",
            "_view_module_version": "1.2.0",
            "_view_name": "StyleView",
            "description_width": ""
          }
        },
        "b4a6bc24513548c9a1d25afa113fe779": {
          "model_module": "@jupyter-widgets/base",
          "model_module_version": "1.2.0",
          "model_name": "LayoutModel",
          "state": {
            "_model_module": "@jupyter-widgets/base",
            "_model_module_version": "1.2.0",
            "_model_name": "LayoutModel",
            "_view_count": null,
            "_view_module": "@jupyter-widgets/base",
            "_view_module_version": "1.2.0",
            "_view_name": "LayoutView",
            "align_content": null,
            "align_items": null,
            "align_self": null,
            "border": null,
            "bottom": null,
            "display": null,
            "flex": null,
            "flex_flow": null,
            "grid_area": null,
            "grid_auto_columns": null,
            "grid_auto_flow": null,
            "grid_auto_rows": null,
            "grid_column": null,
            "grid_gap": null,
            "grid_row": null,
            "grid_template_areas": null,
            "grid_template_columns": null,
            "grid_template_rows": null,
            "height": null,
            "justify_content": null,
            "justify_items": null,
            "left": null,
            "margin": null,
            "max_height": null,
            "max_width": null,
            "min_height": null,
            "min_width": null,
            "object_fit": null,
            "object_position": null,
            "order": null,
            "overflow": null,
            "overflow_x": null,
            "overflow_y": null,
            "padding": null,
            "right": null,
            "top": null,
            "visibility": null,
            "width": null
          }
        },
        "bd84c93fcf7f4d7aa56dc92bf076965d": {
          "model_module": "@jupyter-widgets/controls",
          "model_module_version": "1.5.0",
          "model_name": "DescriptionStyleModel",
          "state": {
            "_model_module": "@jupyter-widgets/controls",
            "_model_module_version": "1.5.0",
            "_model_name": "DescriptionStyleModel",
            "_view_count": null,
            "_view_module": "@jupyter-widgets/base",
            "_view_module_version": "1.2.0",
            "_view_name": "StyleView",
            "description_width": ""
          }
        },
        "dde2bae36b724b85b067e619459f454e": {
          "model_module": "@jupyter-widgets/base",
          "model_module_version": "1.2.0",
          "model_name": "LayoutModel",
          "state": {
            "_model_module": "@jupyter-widgets/base",
            "_model_module_version": "1.2.0",
            "_model_name": "LayoutModel",
            "_view_count": null,
            "_view_module": "@jupyter-widgets/base",
            "_view_module_version": "1.2.0",
            "_view_name": "LayoutView",
            "align_content": null,
            "align_items": null,
            "align_self": null,
            "border": null,
            "bottom": null,
            "display": null,
            "flex": null,
            "flex_flow": null,
            "grid_area": null,
            "grid_auto_columns": null,
            "grid_auto_flow": null,
            "grid_auto_rows": null,
            "grid_column": null,
            "grid_gap": null,
            "grid_row": null,
            "grid_template_areas": null,
            "grid_template_columns": null,
            "grid_template_rows": null,
            "height": null,
            "justify_content": null,
            "justify_items": null,
            "left": null,
            "margin": null,
            "max_height": null,
            "max_width": null,
            "min_height": null,
            "min_width": null,
            "object_fit": null,
            "object_position": null,
            "order": null,
            "overflow": null,
            "overflow_x": null,
            "overflow_y": null,
            "padding": null,
            "right": null,
            "top": null,
            "visibility": null,
            "width": null
          }
        },
        "f498e553954c4f3abcb765b7d6d139a3": {
          "model_module": "@jupyter-widgets/controls",
          "model_module_version": "1.5.0",
          "model_name": "HBoxModel",
          "state": {
            "_dom_classes": [],
            "_model_module": "@jupyter-widgets/controls",
            "_model_module_version": "1.5.0",
            "_model_name": "HBoxModel",
            "_view_count": null,
            "_view_module": "@jupyter-widgets/controls",
            "_view_module_version": "1.5.0",
            "_view_name": "HBoxView",
            "box_style": "",
            "children": [
              "IPY_MODEL_2c5b1e877d234eb9a91fb7bc66ecdaaa",
              "IPY_MODEL_1fb9b0087c7448d4a7e1d2f1848dcfa8",
              "IPY_MODEL_1904dd6a03324a908a3607aaa0f1e90c"
            ],
            "layout": "IPY_MODEL_b4a6bc24513548c9a1d25afa113fe779"
          }
        }
      }
    }
  },
  "nbformat": 4,
  "nbformat_minor": 0
}