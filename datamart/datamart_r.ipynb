{
 "cells": [
  {
   "cell_type": "markdown",
   "metadata": {},
   "source": [
    "## Working on the Data Mart Prediction problem from AnalyticsVidhya in R using IPYNB"
   ]
  },
  {
   "cell_type": "code",
   "execution_count": 1,
   "metadata": {
    "collapsed": false
   },
   "outputs": [
    {
     "data": {
      "text/html": [
       "<table>\n",
       "<thead><tr><th scope=col>Item_Identifier</th><th scope=col>Item_Weight</th><th scope=col>Item_Fat_Content</th><th scope=col>Item_Visibility</th><th scope=col>Item_Type</th><th scope=col>Item_MRP</th><th scope=col>Outlet_Identifier</th><th scope=col>Outlet_Establishment_Year</th><th scope=col>Outlet_Size</th><th scope=col>Outlet_Location_Type</th><th scope=col>Outlet_Type</th><th scope=col>Item_Outlet_Sales</th></tr></thead>\n",
       "<tbody>\n",
       "\t<tr><td>FDA15                </td><td> 9.300               </td><td>Low Fat              </td><td>0.01604730           </td><td>Dairy                </td><td>249.8092             </td><td>OUT049               </td><td>1999                 </td><td>Medium               </td><td>Tier 1               </td><td>Supermarket Type1    </td><td>3735.1380            </td></tr>\n",
       "\t<tr><td>DRC01                </td><td> 5.920               </td><td>Regular              </td><td>0.01927822           </td><td>Soft Drinks          </td><td> 48.2692             </td><td>OUT018               </td><td>2009                 </td><td>Medium               </td><td>Tier 3               </td><td>Supermarket Type2    </td><td> 443.4228            </td></tr>\n",
       "\t<tr><td>FDN15                </td><td>17.500               </td><td>Low Fat              </td><td>0.01676007           </td><td>Meat                 </td><td>141.6180             </td><td>OUT049               </td><td>1999                 </td><td>Medium               </td><td>Tier 1               </td><td>Supermarket Type1    </td><td>2097.2700            </td></tr>\n",
       "\t<tr><td>FDX07                </td><td>19.200               </td><td>Regular              </td><td>0.00000000           </td><td>Fruits and Vegetables</td><td>182.0950             </td><td>OUT010               </td><td>1998                 </td><td>                     </td><td>Tier 3               </td><td>Grocery Store        </td><td> 732.3800            </td></tr>\n",
       "\t<tr><td>NCD19                </td><td> 8.930               </td><td>Low Fat              </td><td>0.00000000           </td><td>Household            </td><td> 53.8614             </td><td>OUT013               </td><td>1987                 </td><td>High                 </td><td>Tier 3               </td><td>Supermarket Type1    </td><td> 994.7052            </td></tr>\n",
       "\t<tr><td>FDP36                </td><td>10.395               </td><td>Regular              </td><td>0.00000000           </td><td>Baking Goods         </td><td> 51.4008             </td><td>OUT018               </td><td>2009                 </td><td>Medium               </td><td>Tier 3               </td><td>Supermarket Type2    </td><td> 556.6088            </td></tr>\n",
       "</tbody>\n",
       "</table>\n"
      ],
      "text/latex": [
       "\\begin{tabular}{r|llllllllllll}\n",
       " Item\\_Identifier & Item\\_Weight & Item\\_Fat\\_Content & Item\\_Visibility & Item\\_Type & Item\\_MRP & Outlet\\_Identifier & Outlet\\_Establishment\\_Year & Outlet\\_Size & Outlet\\_Location\\_Type & Outlet\\_Type & Item\\_Outlet\\_Sales\\\\\n",
       "\\hline\n",
       "\t FDA15                 &  9.300                & Low Fat               & 0.01604730            & Dairy                 & 249.8092              & OUT049                & 1999                  & Medium                & Tier 1                & Supermarket Type1     & 3735.1380            \\\\\n",
       "\t DRC01                 &  5.920                & Regular               & 0.01927822            & Soft Drinks           &  48.2692              & OUT018                & 2009                  & Medium                & Tier 3                & Supermarket Type2     &  443.4228            \\\\\n",
       "\t FDN15                 & 17.500                & Low Fat               & 0.01676007            & Meat                  & 141.6180              & OUT049                & 1999                  & Medium                & Tier 1                & Supermarket Type1     & 2097.2700            \\\\\n",
       "\t FDX07                 & 19.200                & Regular               & 0.00000000            & Fruits and Vegetables & 182.0950              & OUT010                & 1998                  &                       & Tier 3                & Grocery Store         &  732.3800            \\\\\n",
       "\t NCD19                 &  8.930                & Low Fat               & 0.00000000            & Household             &  53.8614              & OUT013                & 1987                  & High                  & Tier 3                & Supermarket Type1     &  994.7052            \\\\\n",
       "\t FDP36                 & 10.395                & Regular               & 0.00000000            & Baking Goods          &  51.4008              & OUT018                & 2009                  & Medium                & Tier 3                & Supermarket Type2     &  556.6088            \\\\\n",
       "\\end{tabular}\n"
      ],
      "text/markdown": [
       "\n",
       "Item_Identifier | Item_Weight | Item_Fat_Content | Item_Visibility | Item_Type | Item_MRP | Outlet_Identifier | Outlet_Establishment_Year | Outlet_Size | Outlet_Location_Type | Outlet_Type | Item_Outlet_Sales | \n",
       "|---|---|---|---|---|---|\n",
       "| FDA15                 |  9.300                | Low Fat               | 0.01604730            | Dairy                 | 249.8092              | OUT049                | 1999                  | Medium                | Tier 1                | Supermarket Type1     | 3735.1380             | \n",
       "| DRC01                 |  5.920                | Regular               | 0.01927822            | Soft Drinks           |  48.2692              | OUT018                | 2009                  | Medium                | Tier 3                | Supermarket Type2     |  443.4228             | \n",
       "| FDN15                 | 17.500                | Low Fat               | 0.01676007            | Meat                  | 141.6180              | OUT049                | 1999                  | Medium                | Tier 1                | Supermarket Type1     | 2097.2700             | \n",
       "| FDX07                 | 19.200                | Regular               | 0.00000000            | Fruits and Vegetables | 182.0950              | OUT010                | 1998                  |                       | Tier 3                | Grocery Store         |  732.3800             | \n",
       "| NCD19                 |  8.930                | Low Fat               | 0.00000000            | Household             |  53.8614              | OUT013                | 1987                  | High                  | Tier 3                | Supermarket Type1     |  994.7052             | \n",
       "| FDP36                 | 10.395                | Regular               | 0.00000000            | Baking Goods          |  51.4008              | OUT018                | 2009                  | Medium                | Tier 3                | Supermarket Type2     |  556.6088             | \n",
       "\n",
       "\n"
      ],
      "text/plain": [
       "  Item_Identifier Item_Weight Item_Fat_Content Item_Visibility\n",
       "1 FDA15            9.300      Low Fat          0.01604730     \n",
       "2 DRC01            5.920      Regular          0.01927822     \n",
       "3 FDN15           17.500      Low Fat          0.01676007     \n",
       "4 FDX07           19.200      Regular          0.00000000     \n",
       "5 NCD19            8.930      Low Fat          0.00000000     \n",
       "6 FDP36           10.395      Regular          0.00000000     \n",
       "  Item_Type             Item_MRP Outlet_Identifier Outlet_Establishment_Year\n",
       "1 Dairy                 249.8092 OUT049            1999                     \n",
       "2 Soft Drinks            48.2692 OUT018            2009                     \n",
       "3 Meat                  141.6180 OUT049            1999                     \n",
       "4 Fruits and Vegetables 182.0950 OUT010            1998                     \n",
       "5 Household              53.8614 OUT013            1987                     \n",
       "6 Baking Goods           51.4008 OUT018            2009                     \n",
       "  Outlet_Size Outlet_Location_Type Outlet_Type       Item_Outlet_Sales\n",
       "1 Medium      Tier 1               Supermarket Type1 3735.1380        \n",
       "2 Medium      Tier 3               Supermarket Type2  443.4228        \n",
       "3 Medium      Tier 1               Supermarket Type1 2097.2700        \n",
       "4             Tier 3               Grocery Store      732.3800        \n",
       "5 High        Tier 3               Supermarket Type1  994.7052        \n",
       "6 Medium      Tier 3               Supermarket Type2  556.6088        "
      ]
     },
     "metadata": {},
     "output_type": "display_data"
    }
   ],
   "source": [
    "train=read.csv('Train_UWu5bXk.csv')\n",
    "#python syntax\n",
    "#train=read_csv('Train_UWu5bXk.csv')\n",
    "#train.head()\n",
    "head(train)"
   ]
  },
  {
   "cell_type": "code",
   "execution_count": 3,
   "metadata": {
    "collapsed": false
   },
   "outputs": [
    {
     "data": {
      "text/html": [
       "<table>\n",
       "<thead><tr><th scope=col>Item_Identifier</th><th scope=col>Item_Weight</th><th scope=col>Item_Fat_Content</th><th scope=col>Item_Visibility</th><th scope=col>Item_Type</th><th scope=col>Item_MRP</th><th scope=col>Outlet_Identifier</th><th scope=col>Outlet_Establishment_Year</th><th scope=col>Outlet_Size</th><th scope=col>Outlet_Location_Type</th><th scope=col>Outlet_Type</th></tr></thead>\n",
       "<tbody>\n",
       "\t<tr><td>FDW58                </td><td>20.750               </td><td>Low Fat              </td><td>0.007564836          </td><td>Snack Foods          </td><td>107.8622             </td><td>OUT049               </td><td>1999                 </td><td>Medium               </td><td>Tier 1               </td><td>Supermarket Type1    </td></tr>\n",
       "\t<tr><td>FDW14                </td><td> 8.300               </td><td>reg                  </td><td>0.038427677          </td><td>Dairy                </td><td> 87.3198             </td><td>OUT017               </td><td>2007                 </td><td>                     </td><td>Tier 2               </td><td>Supermarket Type1    </td></tr>\n",
       "\t<tr><td>NCN55                </td><td>14.600               </td><td>Low Fat              </td><td>0.099574908          </td><td>Others               </td><td>241.7538             </td><td>OUT010               </td><td>1998                 </td><td>                     </td><td>Tier 3               </td><td>Grocery Store        </td></tr>\n",
       "\t<tr><td>FDQ58                </td><td> 7.315               </td><td>Low Fat              </td><td>0.015388393          </td><td>Snack Foods          </td><td>155.0340             </td><td>OUT017               </td><td>2007                 </td><td>                     </td><td>Tier 2               </td><td>Supermarket Type1    </td></tr>\n",
       "\t<tr><td>FDY38                </td><td>    NA               </td><td>Regular              </td><td>0.118599314          </td><td>Dairy                </td><td>234.2300             </td><td>OUT027               </td><td>1985                 </td><td>Medium               </td><td>Tier 3               </td><td>Supermarket Type3    </td></tr>\n",
       "\t<tr><td>FDH56                </td><td> 9.800               </td><td>Regular              </td><td>0.063817206          </td><td>Fruits and Vegetables</td><td>117.1492             </td><td>OUT046               </td><td>1997                 </td><td>Small                </td><td>Tier 1               </td><td>Supermarket Type1    </td></tr>\n",
       "</tbody>\n",
       "</table>\n"
      ],
      "text/latex": [
       "\\begin{tabular}{r|lllllllllll}\n",
       " Item\\_Identifier & Item\\_Weight & Item\\_Fat\\_Content & Item\\_Visibility & Item\\_Type & Item\\_MRP & Outlet\\_Identifier & Outlet\\_Establishment\\_Year & Outlet\\_Size & Outlet\\_Location\\_Type & Outlet\\_Type\\\\\n",
       "\\hline\n",
       "\t FDW58                 & 20.750                & Low Fat               & 0.007564836           & Snack Foods           & 107.8622              & OUT049                & 1999                  & Medium                & Tier 1                & Supermarket Type1    \\\\\n",
       "\t FDW14                 &  8.300                & reg                   & 0.038427677           & Dairy                 &  87.3198              & OUT017                & 2007                  &                       & Tier 2                & Supermarket Type1    \\\\\n",
       "\t NCN55                 & 14.600                & Low Fat               & 0.099574908           & Others                & 241.7538              & OUT010                & 1998                  &                       & Tier 3                & Grocery Store        \\\\\n",
       "\t FDQ58                 &  7.315                & Low Fat               & 0.015388393           & Snack Foods           & 155.0340              & OUT017                & 2007                  &                       & Tier 2                & Supermarket Type1    \\\\\n",
       "\t FDY38                 &     NA                & Regular               & 0.118599314           & Dairy                 & 234.2300              & OUT027                & 1985                  & Medium                & Tier 3                & Supermarket Type3    \\\\\n",
       "\t FDH56                 &  9.800                & Regular               & 0.063817206           & Fruits and Vegetables & 117.1492              & OUT046                & 1997                  & Small                 & Tier 1                & Supermarket Type1    \\\\\n",
       "\\end{tabular}\n"
      ],
      "text/markdown": [
       "\n",
       "Item_Identifier | Item_Weight | Item_Fat_Content | Item_Visibility | Item_Type | Item_MRP | Outlet_Identifier | Outlet_Establishment_Year | Outlet_Size | Outlet_Location_Type | Outlet_Type | \n",
       "|---|---|---|---|---|---|\n",
       "| FDW58                 | 20.750                | Low Fat               | 0.007564836           | Snack Foods           | 107.8622              | OUT049                | 1999                  | Medium                | Tier 1                | Supermarket Type1     | \n",
       "| FDW14                 |  8.300                | reg                   | 0.038427677           | Dairy                 |  87.3198              | OUT017                | 2007                  |                       | Tier 2                | Supermarket Type1     | \n",
       "| NCN55                 | 14.600                | Low Fat               | 0.099574908           | Others                | 241.7538              | OUT010                | 1998                  |                       | Tier 3                | Grocery Store         | \n",
       "| FDQ58                 |  7.315                | Low Fat               | 0.015388393           | Snack Foods           | 155.0340              | OUT017                | 2007                  |                       | Tier 2                | Supermarket Type1     | \n",
       "| FDY38                 |     NA                | Regular               | 0.118599314           | Dairy                 | 234.2300              | OUT027                | 1985                  | Medium                | Tier 3                | Supermarket Type3     | \n",
       "| FDH56                 |  9.800                | Regular               | 0.063817206           | Fruits and Vegetables | 117.1492              | OUT046                | 1997                  | Small                 | Tier 1                | Supermarket Type1     | \n",
       "\n",
       "\n"
      ],
      "text/plain": [
       "  Item_Identifier Item_Weight Item_Fat_Content Item_Visibility\n",
       "1 FDW58           20.750      Low Fat          0.007564836    \n",
       "2 FDW14            8.300      reg              0.038427677    \n",
       "3 NCN55           14.600      Low Fat          0.099574908    \n",
       "4 FDQ58            7.315      Low Fat          0.015388393    \n",
       "5 FDY38               NA      Regular          0.118599314    \n",
       "6 FDH56            9.800      Regular          0.063817206    \n",
       "  Item_Type             Item_MRP Outlet_Identifier Outlet_Establishment_Year\n",
       "1 Snack Foods           107.8622 OUT049            1999                     \n",
       "2 Dairy                  87.3198 OUT017            2007                     \n",
       "3 Others                241.7538 OUT010            1998                     \n",
       "4 Snack Foods           155.0340 OUT017            2007                     \n",
       "5 Dairy                 234.2300 OUT027            1985                     \n",
       "6 Fruits and Vegetables 117.1492 OUT046            1997                     \n",
       "  Outlet_Size Outlet_Location_Type Outlet_Type      \n",
       "1 Medium      Tier 1               Supermarket Type1\n",
       "2             Tier 2               Supermarket Type1\n",
       "3             Tier 3               Grocery Store    \n",
       "4             Tier 2               Supermarket Type1\n",
       "5 Medium      Tier 3               Supermarket Type3\n",
       "6 Small       Tier 1               Supermarket Type1"
      ]
     },
     "metadata": {},
     "output_type": "display_data"
    }
   ],
   "source": [
    "test=read.csv('Test_u94Q5KV.csv')\n",
    "head(test)"
   ]
  },
  {
   "cell_type": "code",
   "execution_count": 4,
   "metadata": {
    "collapsed": false
   },
   "outputs": [
    {
     "data": {
      "text/html": [
       "<ol class=list-inline>\n",
       "\t<li>8523</li>\n",
       "\t<li>12</li>\n",
       "</ol>\n"
      ],
      "text/latex": [
       "\\begin{enumerate*}\n",
       "\\item 8523\n",
       "\\item 12\n",
       "\\end{enumerate*}\n"
      ],
      "text/markdown": [
       "1. 8523\n",
       "2. 12\n",
       "\n",
       "\n"
      ],
      "text/plain": [
       "[1] 8523   12"
      ]
     },
     "metadata": {},
     "output_type": "display_data"
    }
   ],
   "source": [
    "dim(train)\n",
    "#trina.shape[0]"
   ]
  },
  {
   "cell_type": "code",
   "execution_count": 5,
   "metadata": {
    "collapsed": false
   },
   "outputs": [
    {
     "data": {
      "text/html": [
       "<ol class=list-inline>\n",
       "\t<li>5681</li>\n",
       "\t<li>11</li>\n",
       "</ol>\n"
      ],
      "text/latex": [
       "\\begin{enumerate*}\n",
       "\\item 5681\n",
       "\\item 11\n",
       "\\end{enumerate*}\n"
      ],
      "text/markdown": [
       "1. 5681\n",
       "2. 11\n",
       "\n",
       "\n"
      ],
      "text/plain": [
       "[1] 5681   11"
      ]
     },
     "metadata": {},
     "output_type": "display_data"
    }
   ],
   "source": [
    "dim(test)"
   ]
  },
  {
   "cell_type": "code",
   "execution_count": 6,
   "metadata": {
    "collapsed": false
   },
   "outputs": [
    {
     "name": "stdout",
     "output_type": "stream",
     "text": [
      "'data.frame':\t8523 obs. of  12 variables:\n",
      " $ Item_Identifier          : Factor w/ 1559 levels \"DRA12\",\"DRA24\",..: 157 9 663 1122 1298 759 697 739 441 991 ...\n",
      " $ Item_Weight              : num  9.3 5.92 17.5 19.2 8.93 ...\n",
      " $ Item_Fat_Content         : Factor w/ 5 levels \"LF\",\"low fat\",..: 3 5 3 5 3 5 5 3 5 5 ...\n",
      " $ Item_Visibility          : num  0.016 0.0193 0.0168 0 0 ...\n",
      " $ Item_Type                : Factor w/ 16 levels \"Baking Goods\",..: 5 15 11 7 10 1 14 14 6 6 ...\n",
      " $ Item_MRP                 : num  249.8 48.3 141.6 182.1 53.9 ...\n",
      " $ Outlet_Identifier        : Factor w/ 10 levels \"OUT010\",\"OUT013\",..: 10 4 10 1 2 4 2 6 8 3 ...\n",
      " $ Outlet_Establishment_Year: int  1999 2009 1999 1998 1987 2009 1987 1985 2002 2007 ...\n",
      " $ Outlet_Size              : Factor w/ 4 levels \"\",\"High\",\"Medium\",..: 3 3 3 1 2 3 2 3 1 1 ...\n",
      " $ Outlet_Location_Type     : Factor w/ 3 levels \"Tier 1\",\"Tier 2\",..: 1 3 1 3 3 3 3 3 2 2 ...\n",
      " $ Outlet_Type              : Factor w/ 4 levels \"Grocery Store\",..: 2 3 2 1 2 3 2 4 2 2 ...\n",
      " $ Item_Outlet_Sales        : num  3735 443 2097 732 995 ...\n"
     ]
    }
   ],
   "source": [
    "#check the variables and their types in train\n",
    "str(train)\n",
    "#train.dtypes()"
   ]
  },
  {
   "cell_type": "code",
   "execution_count": 8,
   "metadata": {
    "collapsed": false
   },
   "outputs": [
    {
     "data": {
      "text/plain": [
       "\n",
       " FALSE   TRUE \n",
       "100813   1463 "
      ]
     },
     "metadata": {},
     "output_type": "display_data"
    }
   ],
   "source": [
    "table(is.na(train))\n",
    "#train.count()"
   ]
  },
  {
   "cell_type": "code",
   "execution_count": 9,
   "metadata": {
    "collapsed": false
   },
   "outputs": [
    {
     "data": {
      "text/html": [
       "<dl class=dl-horizontal>\n",
       "\t<dt>Item_Identifier</dt>\n",
       "\t\t<dd>0</dd>\n",
       "\t<dt>Item_Weight</dt>\n",
       "\t\t<dd>1463</dd>\n",
       "\t<dt>Item_Fat_Content</dt>\n",
       "\t\t<dd>0</dd>\n",
       "\t<dt>Item_Visibility</dt>\n",
       "\t\t<dd>0</dd>\n",
       "\t<dt>Item_Type</dt>\n",
       "\t\t<dd>0</dd>\n",
       "\t<dt>Item_MRP</dt>\n",
       "\t\t<dd>0</dd>\n",
       "\t<dt>Outlet_Identifier</dt>\n",
       "\t\t<dd>0</dd>\n",
       "\t<dt>Outlet_Establishment_Year</dt>\n",
       "\t\t<dd>0</dd>\n",
       "\t<dt>Outlet_Size</dt>\n",
       "\t\t<dd>0</dd>\n",
       "\t<dt>Outlet_Location_Type</dt>\n",
       "\t\t<dd>0</dd>\n",
       "\t<dt>Outlet_Type</dt>\n",
       "\t\t<dd>0</dd>\n",
       "\t<dt>Item_Outlet_Sales</dt>\n",
       "\t\t<dd>0</dd>\n",
       "</dl>\n"
      ],
      "text/latex": [
       "\\begin{description*}\n",
       "\\item[Item\\textbackslash{}\\_Identifier] 0\n",
       "\\item[Item\\textbackslash{}\\_Weight] 1463\n",
       "\\item[Item\\textbackslash{}\\_Fat\\textbackslash{}\\_Content] 0\n",
       "\\item[Item\\textbackslash{}\\_Visibility] 0\n",
       "\\item[Item\\textbackslash{}\\_Type] 0\n",
       "\\item[Item\\textbackslash{}\\_MRP] 0\n",
       "\\item[Outlet\\textbackslash{}\\_Identifier] 0\n",
       "\\item[Outlet\\textbackslash{}\\_Establishment\\textbackslash{}\\_Year] 0\n",
       "\\item[Outlet\\textbackslash{}\\_Size] 0\n",
       "\\item[Outlet\\textbackslash{}\\_Location\\textbackslash{}\\_Type] 0\n",
       "\\item[Outlet\\textbackslash{}\\_Type] 0\n",
       "\\item[Item\\textbackslash{}\\_Outlet\\textbackslash{}\\_Sales] 0\n",
       "\\end{description*}\n"
      ],
      "text/markdown": [
       "Item_Identifier\n",
       ":   0Item_Weight\n",
       ":   1463Item_Fat_Content\n",
       ":   0Item_Visibility\n",
       ":   0Item_Type\n",
       ":   0Item_MRP\n",
       ":   0Outlet_Identifier\n",
       ":   0Outlet_Establishment_Year\n",
       ":   0Outlet_Size\n",
       ":   0Outlet_Location_Type\n",
       ":   0Outlet_Type\n",
       ":   0Item_Outlet_Sales\n",
       ":   0\n",
       "\n"
      ],
      "text/plain": [
       "          Item_Identifier               Item_Weight          Item_Fat_Content \n",
       "                        0                      1463                         0 \n",
       "          Item_Visibility                 Item_Type                  Item_MRP \n",
       "                        0                         0                         0 \n",
       "        Outlet_Identifier Outlet_Establishment_Year               Outlet_Size \n",
       "                        0                         0                         0 \n",
       "     Outlet_Location_Type               Outlet_Type         Item_Outlet_Sales \n",
       "                        0                         0                         0 "
      ]
     },
     "metadata": {},
     "output_type": "display_data"
    }
   ],
   "source": [
    "colSums(is.na(train))"
   ]
  },
  {
   "cell_type": "code",
   "execution_count": 11,
   "metadata": {
    "collapsed": false
   },
   "outputs": [
    {
     "data": {
      "text/plain": [
       " Item_Identifier  Item_Weight     Item_Fat_Content Item_Visibility  \n",
       " FDG33  :  10    Min.   : 4.555   LF     : 316     Min.   :0.00000  \n",
       " FDW13  :  10    1st Qu.: 8.774   low fat: 112     1st Qu.:0.02699  \n",
       " DRE49  :   9    Median :12.600   Low Fat:5089     Median :0.05393  \n",
       " DRN47  :   9    Mean   :12.858   reg    : 117     Mean   :0.06613  \n",
       " FDD38  :   9    3rd Qu.:16.850   Regular:2889     3rd Qu.:0.09459  \n",
       " FDF52  :   9    Max.   :21.350                    Max.   :0.32839  \n",
       " (Other):8467    NA's   :1463                                       \n",
       "                 Item_Type       Item_MRP      Outlet_Identifier\n",
       " Fruits and Vegetables:1232   Min.   : 31.29   OUT027 : 935     \n",
       " Snack Foods          :1200   1st Qu.: 93.83   OUT013 : 932     \n",
       " Household            : 910   Median :143.01   OUT035 : 930     \n",
       " Frozen Foods         : 856   Mean   :140.99   OUT046 : 930     \n",
       " Dairy                : 682   3rd Qu.:185.64   OUT049 : 930     \n",
       " Canned               : 649   Max.   :266.89   OUT045 : 929     \n",
       " (Other)              :2994                    (Other):2937     \n",
       " Outlet_Establishment_Year Outlet_Size   Outlet_Location_Type\n",
       " Min.   :1985                    :2410   Tier 1:2388         \n",
       " 1st Qu.:1987              High  : 932   Tier 2:2785         \n",
       " Median :1999              Medium:2793   Tier 3:3350         \n",
       " Mean   :1998              Small :2388                       \n",
       " 3rd Qu.:2004                                                \n",
       " Max.   :2009                                                \n",
       "                                                             \n",
       "            Outlet_Type   Item_Outlet_Sales \n",
       " Grocery Store    :1083   Min.   :   33.29  \n",
       " Supermarket Type1:5577   1st Qu.:  834.25  \n",
       " Supermarket Type2: 928   Median : 1794.33  \n",
       " Supermarket Type3: 935   Mean   : 2181.29  \n",
       "                          3rd Qu.: 3101.30  \n",
       "                          Max.   :13086.97  \n",
       "                                            "
      ]
     },
     "metadata": {},
     "output_type": "display_data"
    }
   ],
   "source": [
    "summary(train)\n",
    "#train.describe()"
   ]
  },
  {
   "cell_type": "code",
   "execution_count": null,
   "metadata": {
    "collapsed": true
   },
   "outputs": [],
   "source": []
  }
 ],
 "metadata": {
  "anaconda-cloud": {},
  "kernelspec": {
   "display_name": "R",
   "language": "R",
   "name": "ir"
  },
  "language_info": {
   "codemirror_mode": "r",
   "file_extension": ".r",
   "mimetype": "text/x-r-source",
   "name": "R",
   "pygments_lexer": "r",
   "version": "3.3.2"
  }
 },
 "nbformat": 4,
 "nbformat_minor": 1
}
